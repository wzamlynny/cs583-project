{
 "cells": [
  {
   "cell_type": "markdown",
   "metadata": {},
   "source": [
    "## Baselines\n",
    "\n",
    "You must compare your fancy methods with simple baselines, e.g., random guess, all-positive, all-negative, simple linear models, and beat the baselines. The evaluation metric must be the one required by the competition."
   ]
  },
  {
   "cell_type": "code",
   "execution_count": 1,
   "metadata": {},
   "outputs": [],
   "source": [
    "import numpy as np\n",
    "import pandas as pd\n",
    "from glob import glob\n",
    "\n",
    "import matplotlib.pyplot as plt\n",
    "\n",
    "# Import our files\n",
    "import data\n",
    "import baseline_models"
   ]
  },
  {
   "cell_type": "markdown",
   "metadata": {},
   "source": [
    "## Data Preprocessing"
   ]
  },
  {
   "cell_type": "code",
   "execution_count": 2,
   "metadata": {},
   "outputs": [],
   "source": [
    "train_images = \"data/train_images/*\"\n",
    "test_images = \"data/teset_images/*\"\n",
    "\n",
    "breed_labels_file = \"data/breed_labels.csv\"\n",
    "state_labels_file = \"data/state_labels.csv\"\n",
    "color_labels_file = \"data/color_labels.csv\"\n",
    "test_file = \"data/test.csv\"\n",
    "train_file = \"data/train.csv\""
   ]
  },
  {
   "cell_type": "code",
   "execution_count": 3,
   "metadata": {},
   "outputs": [],
   "source": [
    "# Load all data\n",
    "train_df = pd.read_csv(\"data/train/train.csv\")\n",
    "test_df = pd.read_csv(\"data/test/test.csv\")\n",
    "\n",
    "# Labels contain information for analyzing results, but not for model\n",
    "breed_labels_df = pd.read_csv(\"data/breed_labels.csv\")\n",
    "state_labels_df = pd.read_csv(\"data/state_labels.csv\")\n",
    "color_labels_df = pd.read_csv(\"data/color_labels.csv\")"
   ]
  },
  {
   "cell_type": "code",
   "execution_count": 4,
   "metadata": {},
   "outputs": [],
   "source": [
    "# For linear regression just keep the numeric columns\n",
    "y_col = 'AdoptionSpeed'\n",
    "\n",
    "train_x_df = train_df[data.numeric_cols].copy()\n",
    "train_y_df = train_df[[y_col]].copy()\n",
    "test_x_df = test_df[data.numeric_cols].copy()"
   ]
  },
  {
   "cell_type": "code",
   "execution_count": 5,
   "metadata": {},
   "outputs": [
    {
     "name": "stdout",
     "output_type": "stream",
     "text": [
      "One hot encoding Type with 2 classes...\n",
      "One hot encoding Gender with 3 classes...\n",
      "One hot encoding Color1 with 7 classes...\n",
      "One hot encoding Color2 with 7 classes...\n",
      "One hot encoding Color3 with 7 classes...\n",
      "One hot encoding MaturitySize with 5 classes...\n",
      "One hot encoding FurLength with 4 classes...\n",
      "One hot encoding Vaccinated with 4 classes...\n",
      "One hot encoding Dewormed with 4 classes...\n",
      "One hot encoding Sterilized with 4 classes...\n",
      "One hot encoding Health with 4 classes...\n",
      "One hot encoding State with 15 classes...\n"
     ]
    }
   ],
   "source": [
    "for col, num_class in data.one_hot_cols.items():\n",
    "    if col is not 'Breed1' and col is not 'Breed2':\n",
    "        data.one_hot_encode(train_x_df, col, num_class)\n",
    "        data.one_hot_encode(test_x_df, col, num_class)\n",
    "        print(\"One hot encoding {} with {} classes...\".format(col, num_class))"
   ]
  },
  {
   "cell_type": "code",
   "execution_count": 6,
   "metadata": {},
   "outputs": [
    {
     "name": "stdout",
     "output_type": "stream",
     "text": [
      "64 ['Color1_1', 'Color3_3', 'Color1_3', 'Color1_6', 'Vaccinated_3', 'Color2_0', 'Color2_5', 'Vaccinated_1', 'Color3_7', 'Color2_4', 'State_41361', 'Dewormed_2', 'Health_2', 'Color2_2', 'Color1_5', 'Vaccinated_2', 'Color1_4', 'Color1_7', 'State_41401', 'Color3_5', 'State_41335', 'Sterilized_3', 'Gender_2', 'State_41367', 'Type', 'Age', 'PhotoAmt', 'Breed2', 'Gender_1', 'Quantity', 'Breed1', 'VideoAmt', 'State_41415', 'Color2_3', 'MaturitySize_3', 'State_41336', 'MaturitySize_4', 'FurLength_2', 'Color2_6', 'Color3_4', 'State_41325', 'State_41327', 'State_41345', 'Health_3', 'Fee', 'Sterilized_1', 'Color1_2', 'State_41332', 'Color3_0', 'MaturitySize_1', 'State_41326', 'FurLength_3', 'Gender_3', 'State_41330', 'Color2_7', 'Color3_6', 'State_41324', 'Dewormed_3', 'State_41342', 'Health_1', 'FurLength_1', 'MaturitySize_2', 'Dewormed_1', 'Sterilized_2']\n"
     ]
    }
   ],
   "source": [
    "final_columns = list(set(list(train_x_df.columns.values) + list(test_x_df.columns)))\n",
    "print(len(final_columns), final_columns)"
   ]
  },
  {
   "cell_type": "code",
   "execution_count": 7,
   "metadata": {},
   "outputs": [
    {
     "name": "stdout",
     "output_type": "stream",
     "text": [
      "Adding column 'State_41415' to test_x_df\n"
     ]
    }
   ],
   "source": [
    "# Make sure that train and test have the same columns \n",
    "for col in final_columns:\n",
    "    if col not in train_x_df.columns:\n",
    "        print(\"Adding column '{}' to train_x_df\".format(col))\n",
    "    if col not in test_x_df.columns:\n",
    "        print(\"Adding column '{}' to test_x_df\".format(col))\n",
    "        test_x_df[col] = 0\n",
    "    "
   ]
  },
  {
   "cell_type": "code",
   "execution_count": 8,
   "metadata": {},
   "outputs": [
    {
     "name": "stdout",
     "output_type": "stream",
     "text": [
      "Train x shape: (12027, 64), Train y shape (12027, 1)\n",
      "Valid x shape: (2966, 64), Valid y shape (2966, 1)\n",
      "Test shape: (3948, 64)\n"
     ]
    }
   ],
   "source": [
    "# Create a validation set from training set\n",
    "msk = np.random.rand(len(train_x_df)) < 0.8\n",
    "valid_x_df = train_x_df[~msk]\n",
    "train_x_df = train_x_df[msk]\n",
    "valid_y_df = train_y_df[~msk]\n",
    "train_y_df = train_y_df[msk]\n",
    "\n",
    "print(\"Train x shape: {}, Train y shape {}\".format(train_x_df.shape, train_y_df.shape))\n",
    "print(\"Valid x shape: {}, Valid y shape {}\".format(valid_x_df.shape, valid_y_df.shape))\n",
    "print(\"Test shape: {}\". format(test_x_df.shape))"
   ]
  },
  {
   "cell_type": "markdown",
   "metadata": {},
   "source": [
    "## Run random guess"
   ]
  },
  {
   "cell_type": "code",
   "execution_count": 9,
   "metadata": {},
   "outputs": [],
   "source": [
    "random_guess_y = baseline_models.random_guess(train_x_df)"
   ]
  },
  {
   "cell_type": "code",
   "execution_count": 10,
   "metadata": {},
   "outputs": [
    {
     "name": "stdout",
     "output_type": "stream",
     "text": [
      "12027\n",
      "12027\n"
     ]
    }
   ],
   "source": [
    "print( len(random_guess_y) )\n",
    "print( len(train_x_df) )"
   ]
  },
  {
   "cell_type": "code",
   "execution_count": 11,
   "metadata": {},
   "outputs": [
    {
     "name": "stdout",
     "output_type": "stream",
     "text": [
      "Running random guess...\n",
      "'Training' accuracy: 0.2002993265153405\n",
      "'Validation' accuracy: 0.19963415648125052\n"
     ]
    }
   ],
   "source": [
    "random_guess_pred = baseline_models.run_random_guess((train_x_df, train_y_df), (train_x_df, train_y_df), test_x_df)"
   ]
  },
  {
   "cell_type": "code",
   "execution_count": 12,
   "metadata": {},
   "outputs": [
    {
     "name": "stdout",
     "output_type": "stream",
     "text": [
      "[0 4 3 ... 0 4 2]\n"
     ]
    }
   ],
   "source": [
    "print(random_guess_pred)"
   ]
  },
  {
   "cell_type": "markdown",
   "metadata": {},
   "source": [
    "## Run all 'n' guesses"
   ]
  },
  {
   "cell_type": "code",
   "execution_count": 13,
   "metadata": {},
   "outputs": [
    {
     "name": "stdout",
     "output_type": "stream",
     "text": [
      "[0. 0. 0. ... 0. 0. 0.]\n",
      "[1. 1. 1. ... 1. 1. 1.]\n",
      "[2. 2. 2. ... 2. 2. 2.]\n",
      "[3. 3. 3. ... 3. 3. 3.]\n",
      "[4. 4. 4. ... 4. 4. 4.]\n"
     ]
    }
   ],
   "source": [
    "all_0_y = baseline_models.all_0(train_x_df)\n",
    "print(all_0_y)\n",
    "all_1_y = baseline_models.all_1(train_x_df)\n",
    "print(all_1_y)\n",
    "all_2_y = baseline_models.all_2(train_x_df)\n",
    "print(all_2_y)\n",
    "all_3_y = baseline_models.all_3(train_x_df)\n",
    "print(all_3_y)\n",
    "all_4_y = baseline_models.all_4(train_x_df)\n",
    "print(all_4_y)"
   ]
  },
  {
   "cell_type": "code",
   "execution_count": 14,
   "metadata": {},
   "outputs": [
    {
     "name": "stdout",
     "output_type": "stream",
     "text": [
      "Running all '0' guess...\n",
      "'Training' accuracy: 0.027188825143427287\n",
      "'Validation' accuracy: 0.027188825143427287\n",
      "Running all '1' guess...\n",
      "'Training' accuracy: 0.20578697929658268\n",
      "'Validation' accuracy: 0.20578697929658268\n",
      "Running all '2' guess...\n",
      "'Training' accuracy: 0.269227571297913\n",
      "'Validation' accuracy: 0.269227571297913\n",
      "Running all '3' guess...\n",
      "'Training' accuracy: 0.21792633241872453\n",
      "'Validation' accuracy: 0.21792633241872453\n",
      "Running all '4' guess...\n",
      "'Training' accuracy: 0.27987029184335244\n",
      "'Validation' accuracy: 0.27987029184335244\n"
     ]
    }
   ],
   "source": [
    "all_pred = baseline_models.run_all_n_guess((train_x_df, train_y_df), (train_x_df, train_y_df), test_x_df)"
   ]
  },
  {
   "cell_type": "code",
   "execution_count": 15,
   "metadata": {},
   "outputs": [
    {
     "name": "stdout",
     "output_type": "stream",
     "text": [
      "[[0. 0. 0. ... 0. 0. 0.]\n",
      " [1. 1. 1. ... 1. 1. 1.]\n",
      " [2. 2. 2. ... 2. 2. 2.]\n",
      " [3. 3. 3. ... 3. 3. 3.]\n",
      " [4. 4. 4. ... 4. 4. 4.]]\n"
     ]
    }
   ],
   "source": [
    "print(all_pred)"
   ]
  },
  {
   "cell_type": "markdown",
   "metadata": {},
   "source": [
    "### Run Linear Regression"
   ]
  },
  {
   "cell_type": "code",
   "execution_count": 16,
   "metadata": {},
   "outputs": [
    {
     "name": "stdout",
     "output_type": "stream",
     "text": [
      "Training accuracy: 0.2631578947368421\n",
      "Validation accuracy: 0.2663519892110587\n"
     ]
    }
   ],
   "source": [
    "test_pred = baseline_models.linear_regression((train_x_df, train_y_df), (valid_x_df, valid_y_df), test_x_df)"
   ]
  },
  {
   "cell_type": "code",
   "execution_count": 17,
   "metadata": {},
   "outputs": [
    {
     "name": "stdout",
     "output_type": "stream",
     "text": [
      "[[2.]\n",
      " [3.]\n",
      " [3.]\n",
      " ...\n",
      " [2.]\n",
      " [2.]\n",
      " [3.]]\n"
     ]
    }
   ],
   "source": [
    "print(test_pred)"
   ]
  },
  {
   "cell_type": "markdown",
   "metadata": {},
   "source": [
    "#### Columns:\n",
    "-    PetID - Unique hash ID of pet profile    \n",
    "-    AdoptionSpeed - Categorical speed of adoption. Lower is faster. This is the value to predict. See below section for more info.\n",
    "-    Type - Type of animal (1 = Dog, 2 = Cat)\n",
    "-    Name - Name of pet (Empty if not named)\n",
    "-    Age - Age of pet when listed, in months\n",
    "-    Breed1 - Primary breed of pet (Refer to BreedLabels dictionary)\n",
    "-    Breed2 - Secondary breed of pet, if pet is of mixed breed (Refer to BreedLabels dictionary)\n",
    "-    Gender - Gender of pet (1 = Male, 2 = Female, 3 = Mixed, if profile represents group of pets)\n",
    "-    Color1 - Color 1 of pet (Refer to ColorLabels dictionary)\n",
    "-    Color2 - Color 2 of pet (Refer to ColorLabels dictionary)\n",
    "-    Color3 - Color 3 of pet (Refer to ColorLabels dictionary)\n",
    "-    MaturitySize - Size at maturity (1 = Small, 2 = Medium, 3 = Large, 4 = Extra Large, 0 = Not Specified)\n",
    "-    FurLength - Fur length (1 = Short, 2 = Medium, 3 = Long, 0 = Not Specified)\n",
    "-    Vaccinated - Pet has been vaccinated (1 = Yes, 2 = No, 3 = Not Sure)\n",
    "-    Dewormed - Pet has been dewormed (1 = Yes, 2 = No, 3 = Not Sure)\n",
    "-    Sterilized - Pet has been spayed / neutered (1 = Yes, 2 = No, 3 = Not Sure)\n",
    "-    Health - Health Condition (1 = Healthy, 2 = Minor Injury, 3 = Serious Injury, 0 = Not Specified)\n",
    "-    Quantity - Number of pets represented in profile\n",
    "-    Fee - Adoption fee (0 = Free)\n",
    "-    State - State location in Malaysia (Refer to StateLabels dictionary)\n",
    "-    RescuerID - Unique hash ID of rescuer\n",
    "-    VideoAmt - Total uploaded videos for this pet\n",
    "-    PhotoAmt - Total uploaded photos for this pet\n",
    "-    Description - Profile write-up for this pet. The primary language used is English, with some in Malay or Chinese."
   ]
  }
 ],
 "metadata": {
  "kernelspec": {
   "display_name": "Python 3",
   "language": "python",
   "name": "python3"
  },
  "language_info": {
   "codemirror_mode": {
    "name": "ipython",
    "version": 3
   },
   "file_extension": ".py",
   "mimetype": "text/x-python",
   "name": "python",
   "nbconvert_exporter": "python",
   "pygments_lexer": "ipython3",
   "version": "3.6.8"
  }
 },
 "nbformat": 4,
 "nbformat_minor": 2
}
