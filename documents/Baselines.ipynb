{
 "cells": [
  {
   "cell_type": "markdown",
   "metadata": {},
   "source": [
    "# Baselines\n",
    "\n",
    "In this document we run the following baselines on only the numerical data in our dataset:\n",
    "- Random Guess \n",
    "- Guess all n (0,1,2,3,4)\n",
    "- Linear Regression\n",
    "- Decision Tree"
   ]
  },
  {
   "cell_type": "code",
   "execution_count": 1,
   "metadata": {},
   "outputs": [],
   "source": [
    "import os\n",
    "os.chdir('..')"
   ]
  },
  {
   "cell_type": "code",
   "execution_count": 2,
   "metadata": {},
   "outputs": [],
   "source": [
    "import numpy as np\n",
    "import pandas as pd\n",
    "from glob import glob\n",
    "\n",
    "import matplotlib.pyplot as plt\n",
    "\n",
    "# Import our files\n",
    "import data\n",
    "import baseline_models"
   ]
  },
  {
   "cell_type": "markdown",
   "metadata": {},
   "source": [
    "## Data Preprocessing"
   ]
  },
  {
   "cell_type": "code",
   "execution_count": 3,
   "metadata": {},
   "outputs": [],
   "source": [
    "train_images = \"data/train_images/*\"\n",
    "test_images = \"data/teset_images/*\"\n",
    "\n",
    "breed_labels_file = \"data/breed_labels.csv\"\n",
    "state_labels_file = \"data/state_labels.csv\"\n",
    "color_labels_file = \"data/color_labels.csv\"\n",
    "test_file = \"data/test.csv\"\n",
    "train_file = \"data/train.csv\""
   ]
  },
  {
   "cell_type": "code",
   "execution_count": 4,
   "metadata": {},
   "outputs": [],
   "source": [
    "# Load all data\n",
    "train_df = pd.read_csv(\"data/train/train.csv\")\n",
    "test_df = pd.read_csv(\"data/test/test.csv\")\n",
    "\n",
    "# Labels contain information for analyzing results, but not for model\n",
    "breed_labels_df = pd.read_csv(\"data/breed_labels.csv\")\n",
    "state_labels_df = pd.read_csv(\"data/state_labels.csv\")\n",
    "color_labels_df = pd.read_csv(\"data/color_labels.csv\")"
   ]
  },
  {
   "cell_type": "code",
   "execution_count": 5,
   "metadata": {},
   "outputs": [],
   "source": [
    "# For linear regression just keep the numeric columns\n",
    "y_col = 'AdoptionSpeed'\n",
    "\n",
    "train_x_df = train_df[data.numeric_cols].copy()\n",
    "train_y_df = train_df[[y_col]].copy()\n",
    "test_x_df = test_df[data.numeric_cols].copy()"
   ]
  },
  {
   "cell_type": "code",
   "execution_count": 6,
   "metadata": {},
   "outputs": [
    {
     "name": "stdout",
     "output_type": "stream",
     "text": [
      "One hot encoding Type with 2 classes...\n",
      "One hot encoding Gender with 3 classes...\n",
      "One hot encoding Color1 with 7 classes...\n",
      "One hot encoding Color2 with 7 classes...\n",
      "One hot encoding Color3 with 7 classes...\n",
      "One hot encoding MaturitySize with 5 classes...\n",
      "One hot encoding FurLength with 4 classes...\n",
      "One hot encoding Vaccinated with 3 classes...\n",
      "One hot encoding Dewormed with 3 classes...\n",
      "One hot encoding Sterilized with 3 classes...\n",
      "One hot encoding Health with 4 classes...\n",
      "One hot encoding State with 15 classes...\n"
     ]
    }
   ],
   "source": [
    "for col, num_class in data.one_hot_cols.items():\n",
    "    if col is not 'Breed1' and col is not 'Breed2':\n",
    "        data.one_hot_encode(train_x_df, col, num_class, inplace=True)\n",
    "        data.one_hot_encode(test_x_df, col, num_class, inplace=True)\n",
    "        print(\"One hot encoding {} with {} classes...\".format(col, num_class))"
   ]
  },
  {
   "cell_type": "code",
   "execution_count": 7,
   "metadata": {},
   "outputs": [
    {
     "name": "stdout",
     "output_type": "stream",
     "text": [
      "64 ['Vaccinated_1', 'MaturitySize_3', 'Dewormed_3', 'FurLength_3', 'Dewormed_2', 'State_41336', 'VideoAmt', 'Color3_0', 'Color2_4', 'State_41342', 'Sterilized_1', 'Breed1', 'Color2_6', 'State_41325', 'State_41335', 'State_41367', 'Color3_3', 'Color2_3', 'Gender_3', 'PhotoAmt', 'State_41324', 'Vaccinated_3', 'State_41361', 'Color3_4', 'Color1_2', 'FurLength_2', 'Health_3', 'Gender_1', 'Color3_5', 'Fee', 'Type', 'Color1_3', 'Color1_6', 'Color1_4', 'State_41332', 'MaturitySize_2', 'Sterilized_3', 'Color3_6', 'MaturitySize_1', 'Health_2', 'Health_1', 'Quantity', 'State_41415', 'Color2_5', 'Gender_2', 'Color1_7', 'Age', 'Color1_1', 'Sterilized_2', 'State_41326', 'Dewormed_1', 'State_41330', 'Vaccinated_2', 'State_41401', 'Breed2', 'Color2_7', 'State_41327', 'Color1_5', 'Color2_2', 'FurLength_1', 'Color3_7', 'State_41345', 'Color2_0', 'MaturitySize_4']\n"
     ]
    }
   ],
   "source": [
    "final_columns = list(set(list(train_x_df.columns.values) + list(test_x_df.columns)))\n",
    "print(len(final_columns), final_columns)"
   ]
  },
  {
   "cell_type": "code",
   "execution_count": 8,
   "metadata": {},
   "outputs": [
    {
     "name": "stdout",
     "output_type": "stream",
     "text": [
      "Adding column 'State_41415' to test_x_df\n"
     ]
    }
   ],
   "source": [
    "# Make sure that train and test have the same columns \n",
    "for col in final_columns:\n",
    "    if col not in train_x_df.columns:\n",
    "        print(\"Adding column '{}' to train_x_df\".format(col))\n",
    "    if col not in test_x_df.columns:\n",
    "        print(\"Adding column '{}' to test_x_df\".format(col))\n",
    "        test_x_df[col] = 0\n",
    "    "
   ]
  },
  {
   "cell_type": "code",
   "execution_count": 9,
   "metadata": {},
   "outputs": [
    {
     "name": "stdout",
     "output_type": "stream",
     "text": [
      "Train x shape: (11974, 64), Train y shape (11974, 1)\n",
      "Valid x shape: (3019, 64), Valid y shape (3019, 1)\n",
      "Test shape: (3948, 64)\n"
     ]
    }
   ],
   "source": [
    "# Create a validation set from training set\n",
    "msk = np.random.rand(len(train_x_df)) < 0.8\n",
    "valid_x_df = train_x_df[~msk]\n",
    "train_x_df = train_x_df[msk]\n",
    "valid_y_df = train_y_df[~msk]\n",
    "train_y_df = train_y_df[msk]\n",
    "\n",
    "print(\"Train x shape: {}, Train y shape {}\".format(train_x_df.shape, train_y_df.shape))\n",
    "print(\"Valid x shape: {}, Valid y shape {}\".format(valid_x_df.shape, valid_y_df.shape))\n",
    "print(\"Test shape: {}\". format(test_x_df.shape))"
   ]
  },
  {
   "cell_type": "markdown",
   "metadata": {},
   "source": [
    "## Run random guess"
   ]
  },
  {
   "cell_type": "code",
   "execution_count": 10,
   "metadata": {},
   "outputs": [],
   "source": [
    "random_guess_y = baseline_models.random_guess(train_x_df)"
   ]
  },
  {
   "cell_type": "code",
   "execution_count": 11,
   "metadata": {},
   "outputs": [
    {
     "name": "stdout",
     "output_type": "stream",
     "text": [
      "11974\n",
      "11974\n"
     ]
    }
   ],
   "source": [
    "print( len(random_guess_y) )\n",
    "print( len(train_x_df) )"
   ]
  },
  {
   "cell_type": "code",
   "execution_count": 12,
   "metadata": {},
   "outputs": [
    {
     "name": "stdout",
     "output_type": "stream",
     "text": [
      "Running random guess...\n",
      "'Training' accuracy: 0.19926507432771004\n",
      "'Training' kappa: -0.0030911375889441928\n",
      "'Validation' accuracy: 0.19993318857524636\n",
      "'Validation' kappa: 0.0027525265368397722\n"
     ]
    }
   ],
   "source": [
    "random_guess_pred = baseline_models.run_random_guess((train_x_df, train_y_df), (train_x_df, train_y_df), test_x_df)"
   ]
  },
  {
   "cell_type": "code",
   "execution_count": 13,
   "metadata": {},
   "outputs": [
    {
     "name": "stdout",
     "output_type": "stream",
     "text": [
      "[0 2 2 ... 2 3 2]\n"
     ]
    }
   ],
   "source": [
    "print(random_guess_pred)"
   ]
  },
  {
   "cell_type": "markdown",
   "metadata": {},
   "source": [
    "## Run all 'n' guesses"
   ]
  },
  {
   "cell_type": "code",
   "execution_count": 14,
   "metadata": {},
   "outputs": [
    {
     "name": "stdout",
     "output_type": "stream",
     "text": [
      "[0. 0. 0. ... 0. 0. 0.]\n",
      "[1. 1. 1. ... 1. 1. 1.]\n",
      "[2. 2. 2. ... 2. 2. 2.]\n",
      "[3. 3. 3. ... 3. 3. 3.]\n",
      "[4. 4. 4. ... 4. 4. 4.]\n"
     ]
    }
   ],
   "source": [
    "all_0_y = baseline_models.all_0(train_x_df)\n",
    "print(all_0_y)\n",
    "all_1_y = baseline_models.all_1(train_x_df)\n",
    "print(all_1_y)\n",
    "all_2_y = baseline_models.all_2(train_x_df)\n",
    "print(all_2_y)\n",
    "all_3_y = baseline_models.all_3(train_x_df)\n",
    "print(all_3_y)\n",
    "all_4_y = baseline_models.all_4(train_x_df)\n",
    "print(all_4_y)"
   ]
  },
  {
   "cell_type": "code",
   "execution_count": 15,
   "metadata": {},
   "outputs": [
    {
     "name": "stdout",
     "output_type": "stream",
     "text": [
      "Running all '0' guess...\n",
      "'Training' accuracy: 0.028311341239351927\n",
      "'Training' kappa: 0.0\n",
      "'Validation' accuracy: 0.028311341239351927\n",
      "'Validation' kappa: 0.0\n",
      "Running all '1' guess...\n",
      "'Training' accuracy: 0.20619675964589945\n",
      "'Training' kappa: 0.0\n",
      "'Validation' accuracy: 0.20619675964589945\n",
      "'Validation' kappa: 0.0\n",
      "Running all '2' guess...\n",
      "'Training' accuracy: 0.27016869884750294\n",
      "'Training' kappa: 0.0\n",
      "'Validation' accuracy: 0.27016869884750294\n",
      "'Validation' kappa: 0.0\n",
      "Running all '3' guess...\n",
      "'Training' accuracy: 0.21546684483046602\n",
      "'Training' kappa: 0.0\n",
      "'Validation' accuracy: 0.21546684483046602\n",
      "'Validation' kappa: 0.0\n",
      "Running all '4' guess...\n",
      "'Training' accuracy: 0.27985635543677967\n",
      "'Training' kappa: 0.0\n",
      "'Validation' accuracy: 0.27985635543677967\n",
      "'Validation' kappa: 0.0\n"
     ]
    }
   ],
   "source": [
    "all_pred = baseline_models.run_all_n_guess((train_x_df, train_y_df), (train_x_df, train_y_df), test_x_df)"
   ]
  },
  {
   "cell_type": "code",
   "execution_count": 16,
   "metadata": {},
   "outputs": [
    {
     "name": "stdout",
     "output_type": "stream",
     "text": [
      "[[0. 0. 0. ... 0. 0. 0.]\n",
      " [1. 1. 1. ... 1. 1. 1.]\n",
      " [2. 2. 2. ... 2. 2. 2.]\n",
      " [3. 3. 3. ... 3. 3. 3.]\n",
      " [4. 4. 4. ... 4. 4. 4.]]\n"
     ]
    }
   ],
   "source": [
    "print(all_pred)"
   ]
  },
  {
   "cell_type": "markdown",
   "metadata": {},
   "source": [
    "## Run Linear Regression"
   ]
  },
  {
   "cell_type": "code",
   "execution_count": 17,
   "metadata": {},
   "outputs": [
    {
     "name": "stdout",
     "output_type": "stream",
     "text": [
      "Training accuracy: 0.26407215633873393\n",
      "Training kappa: 0.19863256662489448\n",
      "Validation accuracy: 0.2620072871811858\n",
      "Validation kappa: 0.19384201512944566\n"
     ]
    }
   ],
   "source": [
    "test_pred = baseline_models.linear_regression((train_x_df, train_y_df), (valid_x_df, valid_y_df), test_x_df)"
   ]
  },
  {
   "cell_type": "code",
   "execution_count": 18,
   "metadata": {},
   "outputs": [
    {
     "name": "stdout",
     "output_type": "stream",
     "text": [
      "[[2.]\n",
      " [3.]\n",
      " [3.]\n",
      " ...\n",
      " [2.]\n",
      " [2.]\n",
      " [3.]]\n"
     ]
    }
   ],
   "source": [
    "print(test_pred)"
   ]
  },
  {
   "cell_type": "markdown",
   "metadata": {},
   "source": [
    "## Run Decision Tree"
   ]
  },
  {
   "cell_type": "code",
   "execution_count": 19,
   "metadata": {},
   "outputs": [
    {
     "name": "stdout",
     "output_type": "stream",
     "text": [
      "Training accuracy: 0.9853014865542008\n",
      "Training kappa: 0.9860090673249333\n",
      "Validation accuracy: 0.33719774759854254\n",
      "Validation kappa: 0.20122994200087108\n"
     ]
    }
   ],
   "source": [
    "clf, test_pred = baseline_models.decision_tree((train_x_df, train_y_df), (valid_x_df, valid_y_df), test_x_df)"
   ]
  },
  {
   "cell_type": "code",
   "execution_count": 20,
   "metadata": {},
   "outputs": [
    {
     "name": "stdout",
     "output_type": "stream",
     "text": [
      "[1 2 4 ... 1 1 1]\n"
     ]
    }
   ],
   "source": [
    "print(test_pred)"
   ]
  },
  {
   "cell_type": "code",
   "execution_count": 21,
   "metadata": {},
   "outputs": [],
   "source": [
    "import graphviz \n",
    "from sklearn import tree\n",
    "\n",
    "dot_data = tree.export_graphviz(clf, out_file='tree3.dot', \n",
    "                     filled=True, rounded=True,  \n",
    "                     special_characters=True, max_depth=3,\n",
    "                    feature_names=train_x_df.columns)  \n",
    "graph = graphviz.Source(dot_data)  \n",
    "\n"
   ]
  },
  {
   "cell_type": "code",
   "execution_count": null,
   "metadata": {},
   "outputs": [],
   "source": []
  }
 ],
 "metadata": {
  "kernelspec": {
   "display_name": "Python 3",
   "language": "python",
   "name": "python3"
  },
  "language_info": {
   "codemirror_mode": {
    "name": "ipython",
    "version": 3
   },
   "file_extension": ".py",
   "mimetype": "text/x-python",
   "name": "python",
   "nbconvert_exporter": "python",
   "pygments_lexer": "ipython3",
   "version": "3.6.8"
  }
 },
 "nbformat": 4,
 "nbformat_minor": 2
}
