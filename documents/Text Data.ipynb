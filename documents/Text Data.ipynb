{
 "cells": [
  {
   "cell_type": "markdown",
   "metadata": {},
   "source": [
    "# Using Text Data (Pet Descriptions)\n",
    "Below, we run a Text Only model as well as a Text model unioned with our numerical model."
   ]
  },
  {
   "cell_type": "code",
   "execution_count": 1,
   "metadata": {},
   "outputs": [],
   "source": [
    "# Change this depending on where notebook is running\n",
    "import os\n",
    "os.chdir('..')\n",
    "\n",
    "data_loc = \"data/\""
   ]
  },
  {
   "cell_type": "code",
   "execution_count": 2,
   "metadata": {},
   "outputs": [
    {
     "name": "stderr",
     "output_type": "stream",
     "text": [
      "Using TensorFlow backend.\n"
     ]
    }
   ],
   "source": [
    "import numpy as np\n",
    "import pandas as pd\n",
    "from glob import glob\n",
    "import json\n",
    "import matplotlib.pyplot as plt\n",
    "from sklearn.metrics import cohen_kappa_score\n",
    "\n",
    "import data\n",
    "from model import *"
   ]
  },
  {
   "cell_type": "code",
   "execution_count": 3,
   "metadata": {},
   "outputs": [],
   "source": [
    "# Define data locations\n",
    "train_images = data_loc + \"train_images/*\"\n",
    "test_images = data_loc + \"test_images/*\"\n",
    "\n",
    "breed_labels_file = data_loc + \"breed_labels.csv\"\n",
    "state_labels_file = data_loc + \"state_labels.csv\"\n",
    "color_labels_file = data_loc + \"color_labels.csv\"\n",
    "\n",
    "train_file = data_loc + \"train/train.csv\"\n",
    "test_file = data_loc + \"test/test.csv\"\n",
    "\n",
    "train_sentiment_location = data_loc + \"train_sentiment\"\n",
    "test_sentiment_location = data_loc + \"test_sentiment\""
   ]
  },
  {
   "cell_type": "code",
   "execution_count": 4,
   "metadata": {},
   "outputs": [],
   "source": [
    "breed_labels = pd.read_csv(breed_labels_file)\n",
    "state_labels = pd.read_csv(state_labels_file)\n",
    "color_labels = pd.read_csv(color_labels_file)\n",
    "train_df = pd.read_csv(train_file)\n",
    "test_df = pd.read_csv(test_file)"
   ]
  },
  {
   "cell_type": "markdown",
   "metadata": {},
   "source": [
    "### Text Parsing"
   ]
  },
  {
   "cell_type": "markdown",
   "metadata": {},
   "source": [
    "#### Process sentiment metadata\n",
    "If the data has already been pre-processed, it will be read from disk."
   ]
  },
  {
   "cell_type": "code",
   "execution_count": 5,
   "metadata": {
    "scrolled": true
   },
   "outputs": [],
   "source": [
    "preprocessed_file = \"sentiment_parsed.csv\"\n",
    "if len(glob(preprocessed_file)) == 0:\n",
    "    data.get_sentiment(train_df, train_sentiment_location)\n",
    "else:\n",
    "    sentiment = pd.read_csv(preprocessed_file)\n",
    "    train_df = train_df.merge(sentiment, on='PetID')\n",
    "\n",
    "preprocessed_file = \"test_sentiment_parsed.csv\"\n",
    "if len(glob(preprocessed_file)) == 0:\n",
    "    data.get_sentiment(test_df, test_sentiment_location)\n",
    "else:\n",
    "    sentiment = pd.read_csv(preprocessed_file)\n",
    "    test_df = test_df.merge(sentiment, on='PetID')"
   ]
  },
  {
   "cell_type": "markdown",
   "metadata": {},
   "source": [
    "#### Parse Description"
   ]
  },
  {
   "cell_type": "code",
   "execution_count": 6,
   "metadata": {},
   "outputs": [],
   "source": [
    "train_sequence, test_sequence, vocab_len = data.parse_description(train_df, test_df)"
   ]
  },
  {
   "cell_type": "code",
   "execution_count": 7,
   "metadata": {},
   "outputs": [],
   "source": [
    "train_df['Sequence'] = train_sequence\n",
    "test_df['Sequence'] = test_sequence"
   ]
  },
  {
   "cell_type": "code",
   "execution_count": 8,
   "metadata": {},
   "outputs": [
    {
     "data": {
      "text/html": [
       "<div>\n",
       "<style scoped>\n",
       "    .dataframe tbody tr th:only-of-type {\n",
       "        vertical-align: middle;\n",
       "    }\n",
       "\n",
       "    .dataframe tbody tr th {\n",
       "        vertical-align: top;\n",
       "    }\n",
       "\n",
       "    .dataframe thead th {\n",
       "        text-align: right;\n",
       "    }\n",
       "</style>\n",
       "<table border=\"1\" class=\"dataframe\">\n",
       "  <thead>\n",
       "    <tr style=\"text-align: right;\">\n",
       "      <th></th>\n",
       "      <th>Sequence</th>\n",
       "    </tr>\n",
       "  </thead>\n",
       "  <tbody>\n",
       "    <tr>\n",
       "      <th>0</th>\n",
       "      <td>[11910, 19968, 19607, 896, 6971, 24660, 4220, ...</td>\n",
       "    </tr>\n",
       "    <tr>\n",
       "      <th>1</th>\n",
       "      <td>[20519, 7271, 12770, 4018, 4696, 8041, 3824, 1...</td>\n",
       "    </tr>\n",
       "    <tr>\n",
       "      <th>2</th>\n",
       "      <td>[18244, 4018, 22775, 8475, 19824, 16258, 5440,...</td>\n",
       "    </tr>\n",
       "    <tr>\n",
       "      <th>3</th>\n",
       "      <td>[8818, 2118, 13442, 13361, 7070, 18658, 8818, ...</td>\n",
       "    </tr>\n",
       "    <tr>\n",
       "      <th>4</th>\n",
       "      <td>[23514, 6971, 18598, 7844, 18482, 22686, 2501,...</td>\n",
       "    </tr>\n",
       "    <tr>\n",
       "      <th>5</th>\n",
       "      <td>[17019, 7071, 5472, 2793, 20768, 14745, 0, 0, ...</td>\n",
       "    </tr>\n",
       "    <tr>\n",
       "      <th>6</th>\n",
       "      <td>[15977, 9945, 17957, 22348, 18058, 18465, 1064...</td>\n",
       "    </tr>\n",
       "    <tr>\n",
       "      <th>7</th>\n",
       "      <td>[16258, 5440, 18482, 9945, 19798, 24976, 16401...</td>\n",
       "    </tr>\n",
       "    <tr>\n",
       "      <th>8</th>\n",
       "      <td>[11396, 13361, 5258, 7071, 20519, 2844, 13086,...</td>\n",
       "    </tr>\n",
       "    <tr>\n",
       "      <th>9</th>\n",
       "      <td>[22795, 6662, 17019, 20519, 18652, 19452, 1732...</td>\n",
       "    </tr>\n",
       "  </tbody>\n",
       "</table>\n",
       "</div>"
      ],
      "text/plain": [
       "                                            Sequence\n",
       "0  [11910, 19968, 19607, 896, 6971, 24660, 4220, ...\n",
       "1  [20519, 7271, 12770, 4018, 4696, 8041, 3824, 1...\n",
       "2  [18244, 4018, 22775, 8475, 19824, 16258, 5440,...\n",
       "3  [8818, 2118, 13442, 13361, 7070, 18658, 8818, ...\n",
       "4  [23514, 6971, 18598, 7844, 18482, 22686, 2501,...\n",
       "5  [17019, 7071, 5472, 2793, 20768, 14745, 0, 0, ...\n",
       "6  [15977, 9945, 17957, 22348, 18058, 18465, 1064...\n",
       "7  [16258, 5440, 18482, 9945, 19798, 24976, 16401...\n",
       "8  [11396, 13361, 5258, 7071, 20519, 2844, 13086,...\n",
       "9  [22795, 6662, 17019, 20519, 18652, 19452, 1732..."
      ]
     },
     "metadata": {},
     "output_type": "display_data"
    }
   ],
   "source": [
    "display(train_df[['Sequence']][:10])"
   ]
  },
  {
   "cell_type": "markdown",
   "metadata": {},
   "source": [
    "### Preprocess Numeric Data - One hot encoding"
   ]
  },
  {
   "cell_type": "code",
   "execution_count": 9,
   "metadata": {},
   "outputs": [
    {
     "name": "stdout",
     "output_type": "stream",
     "text": [
      "One hot encoding Type with 2 classes...\n",
      "One hot encoding Gender with 3 classes...\n",
      "One hot encoding Color1 with 7 classes...\n",
      "One hot encoding Color2 with 7 classes...\n",
      "One hot encoding Color3 with 7 classes...\n",
      "One hot encoding MaturitySize with 5 classes...\n",
      "One hot encoding FurLength with 4 classes...\n",
      "One hot encoding Vaccinated with 3 classes...\n",
      "One hot encoding Dewormed with 3 classes...\n",
      "One hot encoding Sterilized with 3 classes...\n",
      "One hot encoding Health with 4 classes...\n",
      "One hot encoding State with 15 classes...\n"
     ]
    }
   ],
   "source": [
    "# One hot encode columns\n",
    "for col, num_class in data.one_hot_cols.items():\n",
    "    if col is not 'Breed1' and col is not 'Breed2':\n",
    "        encode = data.one_hot_encode(train_df, col, num_class, inplace=True)\n",
    "        encode = data.one_hot_encode(test_df, col, num_class, inplace=True)\n",
    "        print(\"One hot encoding {} with {} classes...\".format(col, num_class))"
   ]
  },
  {
   "cell_type": "code",
   "execution_count": 10,
   "metadata": {},
   "outputs": [],
   "source": [
    "# One hot encode y-output\n",
    "encode = data.one_hot_encode(train_df, 'AdoptionSpeed', inplace=True)"
   ]
  },
  {
   "cell_type": "code",
   "execution_count": 11,
   "metadata": {},
   "outputs": [],
   "source": [
    "y_col = ['AdoptionSpeed_0', 'AdoptionSpeed_1', 'AdoptionSpeed_2', 'AdoptionSpeed_3', 'AdoptionSpeed_4']"
   ]
  },
  {
   "cell_type": "code",
   "execution_count": 12,
   "metadata": {},
   "outputs": [],
   "source": [
    "numeric_cols = list(train_df.columns)\n",
    "numeric_cols.remove(\"PetID\") # String\n",
    "numeric_cols.remove(\"Name\") # String\n",
    "numeric_cols.remove(\"RescuerID\") # String\n",
    "numeric_cols.remove(\"Description\") # String, processed seperately\n",
    "numeric_cols.remove(\"Sequence\") # processed seperately\n",
    "\n",
    "for col in y_col:\n",
    "    numeric_cols.remove(col)"
   ]
  },
  {
   "cell_type": "code",
   "execution_count": 13,
   "metadata": {},
   "outputs": [],
   "source": [
    "# Testing columns to remove\n",
    "numeric_cols.remove('Breed1')\n",
    "numeric_cols.remove('Breed2')"
   ]
  },
  {
   "cell_type": "code",
   "execution_count": 14,
   "metadata": {},
   "outputs": [
    {
     "name": "stdout",
     "output_type": "stream",
     "text": [
      "['Type', 'Age', 'Quantity', 'Fee', 'VideoAmt', 'PhotoAmt', 'SentimentMagnitude', 'SentimentScore', 'NumSentences', 'Gender_1', 'Gender_2', 'Gender_3', 'Color1_1', 'Color1_2', 'Color1_3', 'Color1_4', 'Color1_5', 'Color1_6', 'Color1_7', 'Color2_0', 'Color2_2', 'Color2_3', 'Color2_4', 'Color2_5', 'Color2_6', 'Color2_7', 'Color3_0', 'Color3_3', 'Color3_4', 'Color3_5', 'Color3_6', 'Color3_7', 'MaturitySize_1', 'MaturitySize_2', 'MaturitySize_3', 'MaturitySize_4', 'FurLength_1', 'FurLength_2', 'FurLength_3', 'Vaccinated_1', 'Vaccinated_2', 'Vaccinated_3', 'Dewormed_1', 'Dewormed_2', 'Dewormed_3', 'Sterilized_1', 'Sterilized_2', 'Sterilized_3', 'Health_1', 'Health_2', 'Health_3', 'State_41324', 'State_41325', 'State_41326', 'State_41327', 'State_41330', 'State_41332', 'State_41335', 'State_41336', 'State_41342', 'State_41345', 'State_41361', 'State_41367', 'State_41401', 'State_41415']\n"
     ]
    }
   ],
   "source": [
    "print(numeric_cols)"
   ]
  },
  {
   "cell_type": "code",
   "execution_count": 15,
   "metadata": {},
   "outputs": [],
   "source": [
    "# Drop any nans\n",
    "train_df.dropna(inplace=True)\n",
    "test_df.dropna(inplace=True)"
   ]
  },
  {
   "cell_type": "code",
   "execution_count": 16,
   "metadata": {},
   "outputs": [],
   "source": [
    "# normalize numeric columns\n",
    "df = train_df[numeric_cols]\n",
    "train_df[numeric_cols] = (df - df.min()) / (df.max() - df.min())"
   ]
  },
  {
   "cell_type": "markdown",
   "metadata": {},
   "source": [
    "### Split into train and validation sets"
   ]
  },
  {
   "cell_type": "code",
   "execution_count": 17,
   "metadata": {},
   "outputs": [],
   "source": [
    "text_cols = 'Sequence'"
   ]
  },
  {
   "cell_type": "code",
   "execution_count": 18,
   "metadata": {},
   "outputs": [],
   "source": [
    "# Create a mask for training and validation data\n",
    "msk = np.random.rand(len(train_df)) < 0.8"
   ]
  },
  {
   "cell_type": "code",
   "execution_count": 19,
   "metadata": {},
   "outputs": [
    {
     "name": "stdout",
     "output_type": "stream",
     "text": [
      "Let total: 13215\n",
      "Len train: 10607\n",
      "Len valid: 2608\n"
     ]
    }
   ],
   "source": [
    "print(\"Let total:\", len(train_df))\n",
    "print(\"Len train:\" , len(train_df[msk]))\n",
    "print(\"Len valid:\", len(train_df[~msk]))"
   ]
  },
  {
   "cell_type": "markdown",
   "metadata": {},
   "source": [
    "Split into training and validation data\n"
   ]
  },
  {
   "cell_type": "code",
   "execution_count": 20,
   "metadata": {
    "scrolled": true
   },
   "outputs": [
    {
     "name": "stdout",
     "output_type": "stream",
     "text": [
      "Train x shape (10607, 30)\n",
      "Valid x shape (2608, 30)\n"
     ]
    }
   ],
   "source": [
    "# Text Data\n",
    "train_x_text = train_df[text_cols][msk]\n",
    "train_x_text = pd.DataFrame([row for row in train_x_text]) # To make this correct shape\n",
    "\n",
    "valid_x_text = train_df[text_cols][~msk]\n",
    "valid_x_text = pd.DataFrame([row for row in valid_x_text])\n",
    "\n",
    "print(\"Train x shape {}\".format(train_x_text.shape))\n",
    "print(\"Valid x shape {}\".format(valid_x_text.shape))"
   ]
  },
  {
   "cell_type": "code",
   "execution_count": 21,
   "metadata": {},
   "outputs": [
    {
     "name": "stdout",
     "output_type": "stream",
     "text": [
      "Train x shape (10607, 65)\n",
      "Valid x shape (2608, 65)\n"
     ]
    }
   ],
   "source": [
    "# Numeric\n",
    "train_x_num = train_df[numeric_cols][msk]\n",
    "valid_x_num = train_df[numeric_cols][~msk]\n",
    "\n",
    "print(\"Train x shape {}\".format(train_x_num.shape))\n",
    "print(\"Valid x shape {}\".format(valid_x_num.shape))"
   ]
  },
  {
   "cell_type": "code",
   "execution_count": 22,
   "metadata": {},
   "outputs": [],
   "source": [
    "# The y's are the same for both text and numerical models\n",
    "train_y = train_df[y_col][msk]\n",
    "valid_y = valid_y_num = train_df[y_col][~msk]"
   ]
  },
  {
   "cell_type": "markdown",
   "metadata": {},
   "source": [
    "## Text Only Model\n",
    "Defined in model.py as TextOnlyModel"
   ]
  },
  {
   "cell_type": "code",
   "execution_count": 23,
   "metadata": {},
   "outputs": [
    {
     "name": "stdout",
     "output_type": "stream",
     "text": [
      "_________________________________________________________________\n",
      "Layer (type)                 Output Shape              Param #   \n",
      "=================================================================\n",
      "description_encoder (Sequent (None, 32)                829088    \n",
      "_________________________________________________________________\n",
      "dense_2 (Dense)              (None, 5)                 165       \n",
      "=================================================================\n",
      "Total params: 829,253\n",
      "Trainable params: 829,253\n",
      "Non-trainable params: 0\n",
      "_________________________________________________________________\n"
     ]
    }
   ],
   "source": [
    "text_model = TextOnlyModel((train_x_text, train_y),\n",
    "                           (valid_x_text, valid_y),\n",
    "                           vocab_len)"
   ]
  },
  {
   "cell_type": "code",
   "execution_count": 24,
   "metadata": {},
   "outputs": [
    {
     "name": "stdout",
     "output_type": "stream",
     "text": [
      "Train on 10607 samples, validate on 2608 samples\n",
      "Epoch 1/10\n",
      "10607/10607 [==============================] - 53s 5ms/step - loss: 1.4785 - acc: 0.2734 - val_loss: 1.4634 - val_acc: 0.2910\n",
      "Epoch 2/10\n",
      "10607/10607 [==============================] - 40s 4ms/step - loss: 1.4394 - acc: 0.3304 - val_loss: 1.4284 - val_acc: 0.3543\n",
      "Epoch 3/10\n",
      "10607/10607 [==============================] - 40s 4ms/step - loss: 1.3486 - acc: 0.3897 - val_loss: 1.4416 - val_acc: 0.3386\n",
      "Epoch 4/10\n",
      "10607/10607 [==============================] - 40s 4ms/step - loss: 1.2582 - acc: 0.4377 - val_loss: 1.5264 - val_acc: 0.3259\n",
      "Epoch 5/10\n",
      "10607/10607 [==============================] - 42s 4ms/step - loss: 1.1837 - acc: 0.4784 - val_loss: 1.4693 - val_acc: 0.3493\n",
      "Epoch 6/10\n",
      "10607/10607 [==============================] - 41s 4ms/step - loss: 1.1187 - acc: 0.5219 - val_loss: 1.6145 - val_acc: 0.3160\n",
      "Epoch 7/10\n",
      "10607/10607 [==============================] - 40s 4ms/step - loss: 1.0569 - acc: 0.5649 - val_loss: 1.7189 - val_acc: 0.3209\n",
      "Epoch 8/10\n",
      "10607/10607 [==============================] - 40s 4ms/step - loss: 0.9962 - acc: 0.5967 - val_loss: 1.7875 - val_acc: 0.3332\n",
      "Epoch 9/10\n",
      "10607/10607 [==============================] - 41s 4ms/step - loss: 0.9385 - acc: 0.6308 - val_loss: 1.8337 - val_acc: 0.3382\n",
      "Epoch 10/10\n",
      "10607/10607 [==============================] - 42s 4ms/step - loss: 0.8670 - acc: 0.6673 - val_loss: 1.8840 - val_acc: 0.3370\n"
     ]
    }
   ],
   "source": [
    "text_model.compile()\n",
    "text_model.train(epochs=10)"
   ]
  },
  {
   "cell_type": "code",
   "execution_count": 25,
   "metadata": {},
   "outputs": [
    {
     "name": "stdout",
     "output_type": "stream",
     "text": [
      "dict_keys(['val_loss', 'val_acc', 'loss', 'acc'])\n"
     ]
    },
    {
     "data": {
      "image/png": "[encoded data removed]",
      "text/plain": [
       "<Figure size 432x288 with 1 Axes>"
      ]
     },
     "metadata": {
      "needs_background": "light"
     },
     "output_type": "display_data"
    }
   ],
   "source": [
    "history = text_model.model.history\n",
    "print(history.history.keys())\n",
    "\n",
    "acc = history.history['acc']\n",
    "val_acc = history.history['val_acc']\n",
    "\n",
    "epochs = range(len(acc))\n",
    "\n",
    "plt.plot(epochs, acc, 'bo', label='Training acc')\n",
    "plt.plot(epochs, val_acc, 'r', label='Validation acc')\n",
    "plt.xlabel('Epochs')\n",
    "plt.ylabel('Accuracy')\n",
    "plt.ylim(0, 1)\n",
    "plt.legend()\n",
    "plt.show()"
   ]
  },
  {
   "cell_type": "code",
   "execution_count": 34,
   "metadata": {},
   "outputs": [
    {
     "name": "stdout",
     "output_type": "stream",
     "text": [
      "Validation kappa: 0.15723654981905455\n"
     ]
    }
   ],
   "source": [
    "valid_pred = text_model.predict(valid_x_text)\n",
    "valid_pred = np.argmax(valid_pred, -1)\n",
    "y_comp = np.argmax(np.array(valid_y), -1)\n",
    "valid_kappa = cohen_kappa_score(y_comp, valid_pred, weights='quadratic')\n",
    "print(\"Validation kappa: {}\".format(valid_kappa))"
   ]
  },
  {
   "cell_type": "markdown",
   "metadata": {},
   "source": [
    "## Numerical Model"
   ]
  },
  {
   "cell_type": "code",
   "execution_count": 35,
   "metadata": {},
   "outputs": [],
   "source": [
    "class ImageFreeModel(KaggleModel):\n",
    "    def __init__(self, train, test, shape):\n",
    "        kernel = Sequential(name='image_free_encoder')\n",
    "        \n",
    "        kernel.add(BatchNormalization(input_shape=(shape,)))\n",
    "        \n",
    "        kernel.add(Dense(128))\n",
    "        kernel.add(Activation('relu'))\n",
    "        \n",
    "        kernel.add(Dense(64, activation='relu'))\n",
    "        \n",
    "        kernel.add(Dense(32, activation='relu'))\n",
    "\n",
    "        \n",
    "        # Use a single dense residual block\n",
    "        \"\"\"\n",
    "        blk = Sequential()\n",
    "        \n",
    "        blk.add(Dropout(0.5, input_shape=kernel.output_shape[1:]))\n",
    "        blk.add(Dense(128))\n",
    "        blk.add(Activation('relu'))\n",
    "\n",
    "        blk.add(Dense(128))\n",
    "        blk.add(Activation('relu'))\n",
    "\n",
    "        kernel.add(ResidualBlock(blk))\n",
    "        \"\"\"\n",
    "\n",
    "        model = Sequential(name='image_free')\n",
    "        model.add(kernel)\n",
    "        \n",
    "        # Labels are one of [0, 1, 2, 3, 4]\n",
    "        model.add(Dense(5, activation='softmax'))\n",
    "\n",
    "        # Build using the built model\n",
    "        super().__init__(model, train, test)\n",
    "\n",
    "    def compile(self):\n",
    "        self.model.compile(optimizer='adam', loss='categorical_crossentropy', metrics=['accuracy'])\n"
   ]
  },
  {
   "cell_type": "code",
   "execution_count": 36,
   "metadata": {},
   "outputs": [
    {
     "name": "stdout",
     "output_type": "stream",
     "text": [
      "_________________________________________________________________\n",
      "Layer (type)                 Output Shape              Param #   \n",
      "=================================================================\n",
      "image_free_encoder (Sequenti (None, 32)                19044     \n",
      "_________________________________________________________________\n",
      "dense_6 (Dense)              (None, 5)                 165       \n",
      "=================================================================\n",
      "Total params: 19,209\n",
      "Trainable params: 19,079\n",
      "Non-trainable params: 130\n",
      "_________________________________________________________________\n"
     ]
    }
   ],
   "source": [
    "numerical_model = ImageFreeModel((train_x_num, train_y),\n",
    "                                 (valid_x_num, valid_y),\n",
    "                                 train_x_num.shape[1])"
   ]
  },
  {
   "cell_type": "code",
   "execution_count": 37,
   "metadata": {},
   "outputs": [
    {
     "name": "stdout",
     "output_type": "stream",
     "text": [
      "Train on 10607 samples, validate on 2608 samples\n",
      "Epoch 1/10\n",
      "10607/10607 [==============================] - 5s 471us/step - loss: 1.4324 - acc: 0.3363 - val_loss: 1.3992 - val_acc: 0.3589\n",
      "Epoch 2/10\n",
      "10607/10607 [==============================] - 2s 183us/step - loss: 1.3815 - acc: 0.3764 - val_loss: 1.3938 - val_acc: 0.3581\n",
      "Epoch 3/10\n",
      "10607/10607 [==============================] - 2s 158us/step - loss: 1.3621 - acc: 0.3898 - val_loss: 1.3934 - val_acc: 0.3715\n",
      "Epoch 4/10\n",
      "10607/10607 [==============================] - 2s 166us/step - loss: 1.3414 - acc: 0.4012 - val_loss: 1.3999 - val_acc: 0.3646\n",
      "Epoch 5/10\n",
      "10607/10607 [==============================] - 2s 189us/step - loss: 1.3241 - acc: 0.4139 - val_loss: 1.4013 - val_acc: 0.3746\n",
      "Epoch 6/10\n",
      "10607/10607 [==============================] - 2s 166us/step - loss: 1.3071 - acc: 0.4222 - val_loss: 1.4215 - val_acc: 0.3689\n",
      "Epoch 7/10\n",
      "10607/10607 [==============================] - 2s 170us/step - loss: 1.2905 - acc: 0.4374 - val_loss: 1.4207 - val_acc: 0.3727\n",
      "Epoch 8/10\n",
      "10607/10607 [==============================] - 2s 184us/step - loss: 1.2729 - acc: 0.4456 - val_loss: 1.4280 - val_acc: 0.3685\n",
      "Epoch 9/10\n",
      "10607/10607 [==============================] - 2s 184us/step - loss: 1.2566 - acc: 0.4555 - val_loss: 1.4549 - val_acc: 0.3558\n",
      "Epoch 10/10\n",
      "10607/10607 [==============================] - 2s 188us/step - loss: 1.2429 - acc: 0.4663 - val_loss: 1.4402 - val_acc: 0.3662\n"
     ]
    }
   ],
   "source": [
    "numerical_model.compile()\n",
    "numerical_model.train(epochs=10)"
   ]
  },
  {
   "cell_type": "code",
   "execution_count": 38,
   "metadata": {},
   "outputs": [
    {
     "name": "stdout",
     "output_type": "stream",
     "text": [
      "dict_keys(['val_loss', 'val_acc', 'loss', 'acc'])\n"
     ]
    },
    {
     "data": {
      "image/png": "[encoded data removed]",
      "text/plain": [
       "<Figure size 432x288 with 1 Axes>"
      ]
     },
     "metadata": {
      "needs_background": "light"
     },
     "output_type": "display_data"
    }
   ],
   "source": [
    "history = numerical_model.model.history\n",
    "print(history.history.keys())\n",
    "\n",
    "acc = history.history['acc']\n",
    "val_acc = history.history['val_acc']\n",
    "\n",
    "epochs = range(len(acc))\n",
    "\n",
    "plt.plot(epochs, acc, 'bo', label='Training acc')\n",
    "plt.plot(epochs, val_acc, 'r', label='Validation acc')\n",
    "plt.xlabel('Epochs')\n",
    "plt.ylabel('Accuracy')\n",
    "plt.ylim(0, 1)\n",
    "plt.legend()\n",
    "plt.show()"
   ]
  },
  {
   "cell_type": "code",
   "execution_count": 39,
   "metadata": {},
   "outputs": [
    {
     "name": "stdout",
     "output_type": "stream",
     "text": [
      "Validation kappa: 0.24183437327596002\n"
     ]
    }
   ],
   "source": [
    "valid_pred = numerical_model.predict(valid_x_num)\n",
    "valid_pred = np.argmax(valid_pred, -1)\n",
    "y_comp = np.argmax(np.array(valid_y), -1)\n",
    "valid_kappa = cohen_kappa_score(y_comp, valid_pred, weights='quadratic')\n",
    "print(\"Validation kappa: {}\".format(valid_kappa))"
   ]
  },
  {
   "cell_type": "markdown",
   "metadata": {},
   "source": [
    "## Union Model\n",
    "Combining ImageFreeModel with TextOnlyModel using UnionModel"
   ]
  },
  {
   "cell_type": "code",
   "execution_count": 40,
   "metadata": {},
   "outputs": [],
   "source": [
    "class UnionModel2(KaggleModel):\n",
    "    def __init__(self, models, train, test, freeze=True):\n",
    "        \n",
    "        xs = []\n",
    "        ys = []\n",
    "        for model in models:\n",
    "            model = model.model\n",
    "            x = Input(shape=model.input_shape[1:], name='{}_in'.format(model.name))\n",
    "            \n",
    "            # Get the first layer of the model. This is the encoder\n",
    "            layer = model.get_layer(index=0)\n",
    "            \n",
    "            # It must not be trainable\n",
    "            if freeze: layer.trainable = False\n",
    "            # The output only utilizes the encoder component\n",
    "            y = layer(x)\n",
    "            \n",
    "            # Output should be flat\n",
    "            if len(y.shape) > 2:\n",
    "                y = Flatten()(y)\n",
    "                \n",
    "            # Save values\n",
    "            xs.append(x)\n",
    "            ys.append(y)\n",
    "\n",
    "        y = Concatenate()(ys)\n",
    "\n",
    "        y = Dense(128)(y)\n",
    "        y = Dense(128)(y)\n",
    "        y = Dense(128)(y)\n",
    "        y = Dense(128)(y)\n",
    "        y = Dense(128)(y)\n",
    "        y = BatchNormalization()(y)\n",
    "\n",
    "        y = Dense(5, activation='softmax')(y)\n",
    "        \n",
    "        model = Model(xs, y)\n",
    "\n",
    "        super().__init__(model, train, test)\n",
    "\n",
    "    def compile(self):\n",
    "        self.model.compile(optimizer='adam', loss='categorical_crossentropy', metrics=['accuracy'])\n"
   ]
  },
  {
   "cell_type": "code",
   "execution_count": 41,
   "metadata": {},
   "outputs": [
    {
     "name": "stdout",
     "output_type": "stream",
     "text": [
      "__________________________________________________________________________________________________\n",
      "Layer (type)                    Output Shape         Param #     Connected to                     \n",
      "==================================================================================================\n",
      "description_in (InputLayer)     (None, 30)           0                                            \n",
      "__________________________________________________________________________________________________\n",
      "image_free_in (InputLayer)      (None, 65)           0                                            \n",
      "__________________________________________________________________________________________________\n",
      "description_encoder (Sequential (None, 32)           829088      description_in[0][0]             \n",
      "__________________________________________________________________________________________________\n",
      "image_free_encoder (Sequential) (None, 32)           19044       image_free_in[0][0]              \n",
      "__________________________________________________________________________________________________\n",
      "concatenate_1 (Concatenate)     (None, 64)           0           description_encoder[2][0]        \n",
      "                                                                 image_free_encoder[2][0]         \n",
      "__________________________________________________________________________________________________\n",
      "dense_7 (Dense)                 (None, 128)          8320        concatenate_1[0][0]              \n",
      "__________________________________________________________________________________________________\n",
      "dense_8 (Dense)                 (None, 128)          16512       dense_7[0][0]                    \n",
      "__________________________________________________________________________________________________\n",
      "dense_9 (Dense)                 (None, 128)          16512       dense_8[0][0]                    \n",
      "__________________________________________________________________________________________________\n",
      "dense_10 (Dense)                (None, 128)          16512       dense_9[0][0]                    \n",
      "__________________________________________________________________________________________________\n",
      "dense_11 (Dense)                (None, 128)          16512       dense_10[0][0]                   \n",
      "__________________________________________________________________________________________________\n",
      "batch_normalization_2 (BatchNor (None, 128)          512         dense_11[0][0]                   \n",
      "__________________________________________________________________________________________________\n",
      "dense_12 (Dense)                (None, 5)            645         batch_normalization_2[0][0]      \n",
      "==================================================================================================\n",
      "Total params: 923,657\n",
      "Trainable params: 75,269\n",
      "Non-trainable params: 848,388\n",
      "__________________________________________________________________________________________________\n"
     ]
    }
   ],
   "source": [
    "union_model = UnionModel2([text_model, numerical_model],\n",
    "                         ([train_x_text, train_x_num], train_y),\n",
    "                         ([valid_x_text, valid_x_num], valid_y))"
   ]
  },
  {
   "cell_type": "code",
   "execution_count": 42,
   "metadata": {},
   "outputs": [
    {
     "name": "stdout",
     "output_type": "stream",
     "text": [
      "Train on 10607 samples, validate on 2608 samples\n",
      "Epoch 1/10\n",
      "10607/10607 [==============================] - 14s 1ms/step - loss: 0.7496 - acc: 0.7306 - val_loss: 2.0914 - val_acc: 0.3566\n",
      "Epoch 2/10\n",
      "10607/10607 [==============================] - 8s 711us/step - loss: 0.7077 - acc: 0.7380 - val_loss: 2.1001 - val_acc: 0.3539\n",
      "Epoch 3/10\n",
      "10607/10607 [==============================] - 8s 737us/step - loss: 0.6889 - acc: 0.7464 - val_loss: 2.1772 - val_acc: 0.3528\n",
      "Epoch 4/10\n",
      "10607/10607 [==============================] - 7s 669us/step - loss: 0.6875 - acc: 0.7444 - val_loss: 2.1415 - val_acc: 0.3574\n",
      "Epoch 5/10\n",
      "10607/10607 [==============================] - 7s 652us/step - loss: 0.6839 - acc: 0.7487 - val_loss: 2.1879 - val_acc: 0.3577\n",
      "Epoch 6/10\n",
      "10607/10607 [==============================] - 7s 658us/step - loss: 0.6800 - acc: 0.7466 - val_loss: 2.1792 - val_acc: 0.3558\n",
      "Epoch 7/10\n",
      "10607/10607 [==============================] - 7s 678us/step - loss: 0.6805 - acc: 0.7469 - val_loss: 2.1297 - val_acc: 0.3470\n",
      "Epoch 8/10\n",
      "10607/10607 [==============================] - 7s 707us/step - loss: 0.6799 - acc: 0.7448 - val_loss: 2.0041 - val_acc: 0.3551\n",
      "Epoch 9/10\n",
      "10607/10607 [==============================] - 7s 679us/step - loss: 0.6866 - acc: 0.7456 - val_loss: 2.0388 - val_acc: 0.3505\n",
      "Epoch 10/10\n",
      "10607/10607 [==============================] - 7s 700us/step - loss: 0.6797 - acc: 0.7485 - val_loss: 2.0864 - val_acc: 0.3543\n"
     ]
    }
   ],
   "source": [
    "union_model.compile()\n",
    "union_model.train(epochs=10)"
   ]
  },
  {
   "cell_type": "code",
   "execution_count": 43,
   "metadata": {},
   "outputs": [
    {
     "name": "stdout",
     "output_type": "stream",
     "text": [
      "dict_keys(['val_loss', 'val_acc', 'loss', 'acc'])\n"
     ]
    },
    {
     "data": {
      "image/png": "[encoded data removed]",
      "text/plain": [
       "<Figure size 432x288 with 1 Axes>"
      ]
     },
     "metadata": {
      "needs_background": "light"
     },
     "output_type": "display_data"
    }
   ],
   "source": [
    "history = union_model.model.history\n",
    "print(history.history.keys())\n",
    "\n",
    "acc = history.history['acc']\n",
    "val_acc = history.history['val_acc']\n",
    "\n",
    "epochs = range(len(acc))\n",
    "\n",
    "plt.plot(epochs, acc, 'bo', label='Training acc')\n",
    "plt.plot(epochs, val_acc, 'r', label='Validation acc')\n",
    "plt.xlabel('Epochs')\n",
    "plt.ylabel('Accuracy')\n",
    "plt.ylim(0, 1)\n",
    "plt.legend()\n",
    "plt.show()"
   ]
  },
  {
   "cell_type": "code",
   "execution_count": 44,
   "metadata": {},
   "outputs": [
    {
     "name": "stdout",
     "output_type": "stream",
     "text": [
      "Validation kappa: 0.21644705781364004\n"
     ]
    }
   ],
   "source": [
    "valid_pred = union_model.predict([valid_x_text, valid_x_num])\n",
    "valid_pred = np.argmax(valid_pred, -1)\n",
    "y_comp = np.argmax(np.array(valid_y), -1)\n",
    "valid_kappa = cohen_kappa_score(y_comp, valid_pred, weights='quadratic')\n",
    "print(\"Validation kappa: {}\".format(valid_kappa))"
   ]
  },
  {
   "cell_type": "code",
   "execution_count": null,
   "metadata": {},
   "outputs": [],
   "source": []
  }
 ],
 "metadata": {
  "kernelspec": {
   "display_name": "Python 3",
   "language": "python",
   "name": "python3"
  },
  "language_info": {
   "codemirror_mode": {
    "name": "ipython",
    "version": 3
   },
   "file_extension": ".py",
   "mimetype": "text/x-python",
   "name": "python",
   "nbconvert_exporter": "python",
   "pygments_lexer": "ipython3",
   "version": "3.6.8"
  }
 },
 "nbformat": 4,
 "nbformat_minor": 2
}
