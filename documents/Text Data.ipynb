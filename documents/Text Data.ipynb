{
 "cells": [
  {
   "cell_type": "markdown",
   "metadata": {},
   "source": [
    "# Using Text Data (Pet Descriptions)\n",
    "Below, we run a Text Only model as well as a Text model unioned with our numerical model."
   ]
  },
  {
   "cell_type": "code",
   "execution_count": 1,
   "metadata": {},
   "outputs": [],
   "source": [
    "# Change this depending on where notebook is running\n",
    "import os\n",
    "os.chdir('..')\n",
    "\n",
    "data_loc = \"data/\""
   ]
  },
  {
   "cell_type": "code",
   "execution_count": 2,
   "metadata": {},
   "outputs": [
    {
     "name": "stderr",
     "output_type": "stream",
     "text": [
      "Using TensorFlow backend.\n"
     ]
    }
   ],
   "source": [
    "import numpy as np\n",
    "import pandas as pd\n",
    "from glob import glob\n",
    "import json\n",
    "import matplotlib.pyplot as plt\n",
    "\n",
    "import data\n",
    "from model import *"
   ]
  },
  {
   "cell_type": "code",
   "execution_count": 3,
   "metadata": {},
   "outputs": [],
   "source": [
    "# Define data locations\n",
    "train_images = data_loc + \"train_images/*\"\n",
    "test_images = data_loc + \"test_images/*\"\n",
    "\n",
    "breed_labels_file = data_loc + \"breed_labels.csv\"\n",
    "state_labels_file = data_loc + \"state_labels.csv\"\n",
    "color_labels_file = data_loc + \"color_labels.csv\"\n",
    "\n",
    "train_file = data_loc + \"train/train.csv\"\n",
    "test_file = data_loc + \"test/test.csv\"\n",
    "\n",
    "train_sentiment_location = data_loc + \"train_sentiment\"\n",
    "test_sentiment_location = data_loc + \"test_sentiment\""
   ]
  },
  {
   "cell_type": "code",
   "execution_count": 4,
   "metadata": {},
   "outputs": [],
   "source": [
    "breed_labels = pd.read_csv(breed_labels_file)\n",
    "state_labels = pd.read_csv(state_labels_file)\n",
    "color_labels = pd.read_csv(color_labels_file)\n",
    "train_df = pd.read_csv(train_file)\n",
    "test_df = pd.read_csv(test_file)"
   ]
  },
  {
   "cell_type": "markdown",
   "metadata": {},
   "source": [
    "### Text Parsing"
   ]
  },
  {
   "cell_type": "markdown",
   "metadata": {},
   "source": [
    "#### Process sentiment metadata\n",
    "If the data has already been pre-processed, it will be read from disk."
   ]
  },
  {
   "cell_type": "code",
   "execution_count": 5,
   "metadata": {
    "scrolled": true
   },
   "outputs": [],
   "source": [
    "preprocessed_file = \"sentiment_parsed.csv\"\n",
    "if len(glob(preprocessed_file)) == 0:\n",
    "    data.get_sentiment(train_df, train_sentiment_location)\n",
    "else:\n",
    "    sentiment = pd.read_csv(preprocessed_file)\n",
    "    train_df = train_df.merge(sentiment, on='PetID')\n",
    "\n",
    "preprocessed_file = \"test_sentiment_parsed.csv\"\n",
    "if len(glob(preprocessed_file)) == 0:\n",
    "    data.get_sentiment(test_df, test_sentiment_location)\n",
    "else:\n",
    "    sentiment = pd.read_csv(preprocessed_file)\n",
    "    test_df = test_df.merge(sentiment, on='PetID')"
   ]
  },
  {
   "cell_type": "markdown",
   "metadata": {},
   "source": [
    "#### Parse Description"
   ]
  },
  {
   "cell_type": "code",
   "execution_count": 6,
   "metadata": {},
   "outputs": [],
   "source": [
    "train_sequence, test_sequence, vocab_len = data.parse_description(train_df, test_df)"
   ]
  },
  {
   "cell_type": "code",
   "execution_count": 7,
   "metadata": {},
   "outputs": [],
   "source": [
    "train_df['Sequence'] = train_sequence\n",
    "test_df['Sequence'] = test_sequence"
   ]
  },
  {
   "cell_type": "code",
   "execution_count": 8,
   "metadata": {},
   "outputs": [
    {
     "data": {
      "text/html": [
       "<div>\n",
       "<style scoped>\n",
       "    .dataframe tbody tr th:only-of-type {\n",
       "        vertical-align: middle;\n",
       "    }\n",
       "\n",
       "    .dataframe tbody tr th {\n",
       "        vertical-align: top;\n",
       "    }\n",
       "\n",
       "    .dataframe thead th {\n",
       "        text-align: right;\n",
       "    }\n",
       "</style>\n",
       "<table border=\"1\" class=\"dataframe\">\n",
       "  <thead>\n",
       "    <tr style=\"text-align: right;\">\n",
       "      <th></th>\n",
       "      <th>Sequence</th>\n",
       "    </tr>\n",
       "  </thead>\n",
       "  <tbody>\n",
       "    <tr>\n",
       "      <th>0</th>\n",
       "      <td>[6735, 17276, 24622, 23174, 11178, 25075, 8465...</td>\n",
       "    </tr>\n",
       "    <tr>\n",
       "      <th>1</th>\n",
       "      <td>[6462, 12559, 18919, 10091, 24534, 24521, 1256...</td>\n",
       "    </tr>\n",
       "    <tr>\n",
       "      <th>2</th>\n",
       "      <td>[7315, 10091, 11832, 24726, 14221, 16214, 1544...</td>\n",
       "    </tr>\n",
       "    <tr>\n",
       "      <th>3</th>\n",
       "      <td>[4540, 19930, 15042, 19503, 8767, 24879, 4540,...</td>\n",
       "    </tr>\n",
       "    <tr>\n",
       "      <th>4</th>\n",
       "      <td>[23158, 11178, 18848, 12176, 3270, 23588, 1354...</td>\n",
       "    </tr>\n",
       "    <tr>\n",
       "      <th>5</th>\n",
       "      <td>[11523, 18130, 21259, 6867, 1820, 18432, 0, 0,...</td>\n",
       "    </tr>\n",
       "    <tr>\n",
       "      <th>6</th>\n",
       "      <td>[8467, 18723, 1841, 4587, 21295, 22829, 17462,...</td>\n",
       "    </tr>\n",
       "    <tr>\n",
       "      <th>7</th>\n",
       "      <td>[16214, 15441, 3270, 18723, 20174, 455, 23264,...</td>\n",
       "    </tr>\n",
       "    <tr>\n",
       "      <th>8</th>\n",
       "      <td>[8091, 19503, 13438, 18130, 6462, 10699, 18780...</td>\n",
       "    </tr>\n",
       "    <tr>\n",
       "      <th>9</th>\n",
       "      <td>[7154, 18965, 11523, 6462, 14273, 3845, 11699,...</td>\n",
       "    </tr>\n",
       "  </tbody>\n",
       "</table>\n",
       "</div>"
      ],
      "text/plain": [
       "                                            Sequence\n",
       "0  [6735, 17276, 24622, 23174, 11178, 25075, 8465...\n",
       "1  [6462, 12559, 18919, 10091, 24534, 24521, 1256...\n",
       "2  [7315, 10091, 11832, 24726, 14221, 16214, 1544...\n",
       "3  [4540, 19930, 15042, 19503, 8767, 24879, 4540,...\n",
       "4  [23158, 11178, 18848, 12176, 3270, 23588, 1354...\n",
       "5  [11523, 18130, 21259, 6867, 1820, 18432, 0, 0,...\n",
       "6  [8467, 18723, 1841, 4587, 21295, 22829, 17462,...\n",
       "7  [16214, 15441, 3270, 18723, 20174, 455, 23264,...\n",
       "8  [8091, 19503, 13438, 18130, 6462, 10699, 18780...\n",
       "9  [7154, 18965, 11523, 6462, 14273, 3845, 11699,..."
      ]
     },
     "metadata": {},
     "output_type": "display_data"
    }
   ],
   "source": [
    "display(train_df[['Sequence']][:10])"
   ]
  },
  {
   "cell_type": "markdown",
   "metadata": {},
   "source": [
    "### Preprocess Numeric Data - One hot encoding"
   ]
  },
  {
   "cell_type": "code",
   "execution_count": 9,
   "metadata": {},
   "outputs": [
    {
     "name": "stdout",
     "output_type": "stream",
     "text": [
      "One hot encoding Type with 2 classes...\n",
      "One hot encoding Gender with 3 classes...\n",
      "One hot encoding Color1 with 7 classes...\n",
      "One hot encoding Color2 with 7 classes...\n",
      "One hot encoding Color3 with 7 classes...\n",
      "One hot encoding MaturitySize with 5 classes...\n",
      "One hot encoding FurLength with 4 classes...\n",
      "One hot encoding Vaccinated with 3 classes...\n",
      "One hot encoding Dewormed with 3 classes...\n",
      "One hot encoding Sterilized with 3 classes...\n",
      "One hot encoding Health with 4 classes...\n",
      "One hot encoding State with 15 classes...\n"
     ]
    }
   ],
   "source": [
    "# One hot encode columns\n",
    "for col, num_class in data.one_hot_cols.items():\n",
    "    if col is not 'Breed1' and col is not 'Breed2':\n",
    "        encode = data.one_hot_encode(train_df, col, num_class, inplace=True)\n",
    "        encode = data.one_hot_encode(test_df, col, num_class, inplace=True)\n",
    "        print(\"One hot encoding {} with {} classes...\".format(col, num_class))"
   ]
  },
  {
   "cell_type": "code",
   "execution_count": 10,
   "metadata": {},
   "outputs": [],
   "source": [
    "# One hot encode y-output\n",
    "encode = data.one_hot_encode(train_df, 'AdoptionSpeed', inplace=True)"
   ]
  },
  {
   "cell_type": "code",
   "execution_count": 11,
   "metadata": {},
   "outputs": [],
   "source": [
    "y_col = ['AdoptionSpeed_0', 'AdoptionSpeed_1', 'AdoptionSpeed_2', 'AdoptionSpeed_3', 'AdoptionSpeed_4']"
   ]
  },
  {
   "cell_type": "code",
   "execution_count": 12,
   "metadata": {},
   "outputs": [],
   "source": [
    "numeric_cols = list(train_df.columns)\n",
    "numeric_cols.remove(\"PetID\") # String\n",
    "numeric_cols.remove(\"Name\") # String\n",
    "numeric_cols.remove(\"RescuerID\") # String\n",
    "numeric_cols.remove(\"Description\") # String, processed seperately\n",
    "numeric_cols.remove(\"Sequence\") # processed seperately\n",
    "\n",
    "for col in y_col:\n",
    "    numeric_cols.remove(col)"
   ]
  },
  {
   "cell_type": "code",
   "execution_count": 13,
   "metadata": {},
   "outputs": [],
   "source": [
    "# Testing columns to remove\n",
    "numeric_cols.remove('Breed1')\n",
    "numeric_cols.remove('Breed2')"
   ]
  },
  {
   "cell_type": "code",
   "execution_count": 14,
   "metadata": {},
   "outputs": [
    {
     "name": "stdout",
     "output_type": "stream",
     "text": [
      "['Type', 'Age', 'Quantity', 'Fee', 'VideoAmt', 'PhotoAmt', 'SentimentMagnitude', 'SentimentScore', 'NumSentences', 'Gender_1', 'Gender_2', 'Gender_3', 'Color1_1', 'Color1_2', 'Color1_3', 'Color1_4', 'Color1_5', 'Color1_6', 'Color1_7', 'Color2_0', 'Color2_2', 'Color2_3', 'Color2_4', 'Color2_5', 'Color2_6', 'Color2_7', 'Color3_0', 'Color3_3', 'Color3_4', 'Color3_5', 'Color3_6', 'Color3_7', 'MaturitySize_1', 'MaturitySize_2', 'MaturitySize_3', 'MaturitySize_4', 'FurLength_1', 'FurLength_2', 'FurLength_3', 'Vaccinated_1', 'Vaccinated_2', 'Vaccinated_3', 'Dewormed_1', 'Dewormed_2', 'Dewormed_3', 'Sterilized_1', 'Sterilized_2', 'Sterilized_3', 'Health_1', 'Health_2', 'Health_3', 'State_41324', 'State_41325', 'State_41326', 'State_41327', 'State_41330', 'State_41332', 'State_41335', 'State_41336', 'State_41342', 'State_41345', 'State_41361', 'State_41367', 'State_41401', 'State_41415']\n"
     ]
    }
   ],
   "source": [
    "print(numeric_cols)"
   ]
  },
  {
   "cell_type": "code",
   "execution_count": 41,
   "metadata": {},
   "outputs": [],
   "source": [
    "# Drop any nans\n",
    "train_df.dropna(inplace=True)\n",
    "test_df.dropna(inplace=True)"
   ]
  },
  {
   "cell_type": "code",
   "execution_count": 42,
   "metadata": {},
   "outputs": [],
   "source": [
    "# normalize numeric columns\n",
    "df = train_df[numeric_cols]\n",
    "train_df[numeric_cols] = (df - df.min()) / (df.max() - df.min())"
   ]
  },
  {
   "cell_type": "markdown",
   "metadata": {},
   "source": [
    "### Split into train and validation sets"
   ]
  },
  {
   "cell_type": "code",
   "execution_count": 43,
   "metadata": {},
   "outputs": [],
   "source": [
    "text_cols = 'Sequence'"
   ]
  },
  {
   "cell_type": "code",
   "execution_count": 44,
   "metadata": {},
   "outputs": [],
   "source": [
    "# Create a mask for training and validation data\n",
    "msk = np.random.rand(len(train_df)) < 0.8"
   ]
  },
  {
   "cell_type": "code",
   "execution_count": 45,
   "metadata": {},
   "outputs": [
    {
     "name": "stdout",
     "output_type": "stream",
     "text": [
      "Let total: 13215\n",
      "Len train: 10514\n",
      "Len valid: 2701\n"
     ]
    }
   ],
   "source": [
    "print(\"Let total:\", len(train_df))\n",
    "print(\"Len train:\" , len(train_df[msk]))\n",
    "print(\"Len valid:\", len(train_df[~msk]))"
   ]
  },
  {
   "cell_type": "markdown",
   "metadata": {},
   "source": [
    "Split into training and validation data\n"
   ]
  },
  {
   "cell_type": "code",
   "execution_count": 46,
   "metadata": {},
   "outputs": [
    {
     "name": "stdout",
     "output_type": "stream",
     "text": [
      "Train x shape (10514, 30)\n",
      "Valid x shape (2701, 30)\n"
     ]
    }
   ],
   "source": [
    "# Text Data\n",
    "train_x_text = train_df[text_cols][msk]\n",
    "train_x_text = pd.DataFrame([row for row in train_x_text]) # To make this correct shape\n",
    "\n",
    "valid_x_text = train_df[text_cols][~msk]\n",
    "valid_x_text = pd.DataFrame([row for row in valid_x_text])\n",
    "\n",
    "print(\"Train x shape {}\".format(train_x_text.shape))\n",
    "print(\"Valid x shape {}\".format(valid_x_text.shape))"
   ]
  },
  {
   "cell_type": "code",
   "execution_count": 47,
   "metadata": {},
   "outputs": [
    {
     "name": "stdout",
     "output_type": "stream",
     "text": [
      "Train x shape (10514, 65)\n",
      "Valid x shape (2701, 65)\n"
     ]
    }
   ],
   "source": [
    "# Numeric\n",
    "train_x_num = train_df[numeric_cols][msk]\n",
    "valid_x_num = train_df[numeric_cols][~msk]\n",
    "\n",
    "print(\"Train x shape {}\".format(train_x_num.shape))\n",
    "print(\"Valid x shape {}\".format(valid_x_num.shape))"
   ]
  },
  {
   "cell_type": "code",
   "execution_count": 48,
   "metadata": {},
   "outputs": [],
   "source": [
    "# The y's are the same for both text and numerical models\n",
    "train_y = train_df[y_col][msk]\n",
    "valid_y = valid_y_num = train_df[y_col][~msk]"
   ]
  },
  {
   "cell_type": "code",
   "execution_count": 49,
   "metadata": {},
   "outputs": [
    {
     "name": "stdout",
     "output_type": "stream",
     "text": [
      "               Type           Age      Quantity           Fee      VideoAmt  \\\n",
      "count  10514.000000  10514.000000  10514.000000  10514.000000  10514.000000   \n",
      "mean       0.563249      0.042251      0.026426      0.007444      0.007383   \n",
      "std        0.496007      0.072987      0.073230      0.026011      0.044499   \n",
      "min        0.000000      0.000000      0.000000      0.000000      0.000000   \n",
      "25%        0.000000      0.007843      0.000000      0.000000      0.000000   \n",
      "50%        1.000000      0.011765      0.000000      0.000000      0.000000   \n",
      "75%        1.000000      0.047059      0.000000      0.000000      0.000000   \n",
      "max        1.000000      1.000000      1.000000      0.666667      1.000000   \n",
      "\n",
      "           PhotoAmt  SentimentMagnitude  SentimentScore  NumSentences  \\\n",
      "count  10514.000000        10514.000000    10514.000000  10514.000000   \n",
      "mean       0.132740            0.069049        0.658413      0.051448   \n",
      "std        0.120531            0.065844        0.151838      0.060236   \n",
      "min        0.000000            0.000000        0.000000      0.000000   \n",
      "25%        0.066667            0.028125        0.555556      0.012048   \n",
      "50%        0.100000            0.053125        0.666667      0.036145   \n",
      "75%        0.166667            0.090625        0.722222      0.072289   \n",
      "max        1.000000            1.000000        1.000000      1.000000   \n",
      "\n",
      "           Gender_1  ...   State_41330   State_41332   State_41335  \\\n",
      "count  10514.000000  ...  10514.000000  10514.000000  10514.000000   \n",
      "mean       0.371029  ...      0.027772      0.015123      0.005897   \n",
      "std        0.483103  ...      0.164328      0.122047      0.076568   \n",
      "min        0.000000  ...      0.000000      0.000000      0.000000   \n",
      "25%        0.000000  ...      0.000000      0.000000      0.000000   \n",
      "50%        0.000000  ...      0.000000      0.000000      0.000000   \n",
      "75%        1.000000  ...      0.000000      0.000000      0.000000   \n",
      "max        1.000000  ...      1.000000      1.000000      1.000000   \n",
      "\n",
      "        State_41336   State_41342   State_41345   State_41361   State_41367  \\\n",
      "count  10514.000000  10514.000000  10514.000000  10514.000000  10514.000000   \n",
      "mean       0.031577      0.000951      0.001712      0.001427      0.000951   \n",
      "std        0.174879      0.030827      0.041343      0.037746      0.030827   \n",
      "min        0.000000      0.000000      0.000000      0.000000      0.000000   \n",
      "25%        0.000000      0.000000      0.000000      0.000000      0.000000   \n",
      "50%        0.000000      0.000000      0.000000      0.000000      0.000000   \n",
      "75%        0.000000      0.000000      0.000000      0.000000      0.000000   \n",
      "max        1.000000      1.000000      1.000000      1.000000      1.000000   \n",
      "\n",
      "        State_41401   State_41415  \n",
      "count  10514.000000  10514.000000  \n",
      "mean       0.249857      0.000285  \n",
      "std        0.432951      0.016890  \n",
      "min        0.000000      0.000000  \n",
      "25%        0.000000      0.000000  \n",
      "50%        0.000000      0.000000  \n",
      "75%        0.000000      0.000000  \n",
      "max        1.000000      1.000000  \n",
      "\n",
      "[8 rows x 65 columns]\n"
     ]
    }
   ],
   "source": [
    "print(train_x_num.describe())"
   ]
  },
  {
   "cell_type": "markdown",
   "metadata": {},
   "source": [
    "## Text Only Model\n",
    "Defined in model.py as TextOnlyModel"
   ]
  },
  {
   "cell_type": "code",
   "execution_count": 50,
   "metadata": {},
   "outputs": [
    {
     "name": "stdout",
     "output_type": "stream",
     "text": [
      "_________________________________________________________________\n",
      "Layer (type)                 Output Shape              Param #   \n",
      "=================================================================\n",
      "description_encoder (Sequent (None, 32)                829088    \n",
      "_________________________________________________________________\n",
      "dense_16 (Dense)             (None, 5)                 165       \n",
      "=================================================================\n",
      "Total params: 829,253\n",
      "Trainable params: 829,253\n",
      "Non-trainable params: 0\n",
      "_________________________________________________________________\n"
     ]
    }
   ],
   "source": [
    "text_model = TextOnlyModel((train_x_text, train_y),\n",
    "                           (valid_x_text, valid_y),\n",
    "                           vocab_len)"
   ]
  },
  {
   "cell_type": "code",
   "execution_count": 25,
   "metadata": {},
   "outputs": [
    {
     "name": "stdout",
     "output_type": "stream",
     "text": [
      "Train on 12051 samples, validate on 2942 samples\n",
      "Epoch 1/10\n",
      "12051/12051 [==============================] - 42s 4ms/step - loss: 1.4721 - acc: 0.2814 - val_loss: 1.4849 - val_acc: 0.2750\n",
      "Epoch 2/10\n",
      "12051/12051 [==============================] - 36s 3ms/step - loss: 1.4206 - acc: 0.3436 - val_loss: 1.4476 - val_acc: 0.3219\n",
      "Epoch 3/10\n",
      "12051/12051 [==============================] - 36s 3ms/step - loss: 1.3004 - acc: 0.4220 - val_loss: 1.4998 - val_acc: 0.3294\n",
      "Epoch 4/10\n",
      "12051/12051 [==============================] - 37s 3ms/step - loss: 1.1895 - acc: 0.4800 - val_loss: 1.5634 - val_acc: 0.3382\n",
      "Epoch 5/10\n",
      "12051/12051 [==============================] - 36s 3ms/step - loss: 1.0948 - acc: 0.5254 - val_loss: 1.6185 - val_acc: 0.3409\n",
      "Epoch 6/10\n",
      "12051/12051 [==============================] - 47s 4ms/step - loss: 1.0032 - acc: 0.5633 - val_loss: 1.6942 - val_acc: 0.3341\n",
      "Epoch 7/10\n",
      "12051/12051 [==============================] - 36s 3ms/step - loss: 0.9298 - acc: 0.6076 - val_loss: 1.8021 - val_acc: 0.3511\n",
      "Epoch 8/10\n",
      "12051/12051 [==============================] - 37s 3ms/step - loss: 0.8594 - acc: 0.6513 - val_loss: 1.8008 - val_acc: 0.3314\n",
      "Epoch 9/10\n",
      "12051/12051 [==============================] - 38s 3ms/step - loss: 0.7904 - acc: 0.6863 - val_loss: 2.0060 - val_acc: 0.3440\n",
      "Epoch 10/10\n",
      "12051/12051 [==============================] - 38s 3ms/step - loss: 0.7320 - acc: 0.7119 - val_loss: 2.0984 - val_acc: 0.3457\n"
     ]
    }
   ],
   "source": [
    "text_model.compile()\n",
    "text_model.train(epochs=10)"
   ]
  },
  {
   "cell_type": "code",
   "execution_count": 26,
   "metadata": {},
   "outputs": [
    {
     "name": "stdout",
     "output_type": "stream",
     "text": [
      "dict_keys(['val_loss', 'val_acc', 'loss', 'acc'])\n"
     ]
    },
    {
     "data": {
      "image/png": "[encoded data removed]",
      "text/plain": [
       "<Figure size 432x288 with 1 Axes>"
      ]
     },
     "metadata": {
      "needs_background": "light"
     },
     "output_type": "display_data"
    }
   ],
   "source": [
    "history = text_model.model.history\n",
    "print(history.history.keys())\n",
    "\n",
    "acc = history.history['acc']\n",
    "val_acc = history.history['val_acc']\n",
    "\n",
    "epochs = range(len(acc))\n",
    "\n",
    "plt.plot(epochs, acc, 'bo', label='Training acc')\n",
    "plt.plot(epochs, val_acc, 'r', label='Validation acc')\n",
    "plt.xlabel('Epochs')\n",
    "plt.ylabel('Accuracy')\n",
    "plt.ylim(0, 1)\n",
    "plt.legend()\n",
    "plt.show()"
   ]
  },
  {
   "cell_type": "markdown",
   "metadata": {},
   "source": [
    "## Numerical Model"
   ]
  },
  {
   "cell_type": "code",
   "execution_count": 84,
   "metadata": {},
   "outputs": [],
   "source": [
    "class ImageFreeModel(KaggleModel):\n",
    "    def __init__(self, train, test, shape):\n",
    "        kernel = Sequential(name='image_free_encoder')\n",
    "        \n",
    "        kernel.add(BatchNormalization(input_shape=(shape,)))\n",
    "        \n",
    "        kernel.add(Dense(128))\n",
    "        kernel.add(Activation('relu'))\n",
    "        \n",
    "        kernel.add(Dense(64, activation='relu'))\n",
    "        \n",
    "        kernel.add(Dense(32, activation='relu'))\n",
    "\n",
    "        \n",
    "        # Use a single dense residual block\n",
    "        \"\"\"\n",
    "        blk = Sequential()\n",
    "        \n",
    "        blk.add(Dropout(0.5, input_shape=kernel.output_shape[1:]))\n",
    "        blk.add(Dense(128))\n",
    "        blk.add(Activation('relu'))\n",
    "\n",
    "        blk.add(Dense(128))\n",
    "        blk.add(Activation('relu'))\n",
    "\n",
    "        kernel.add(ResidualBlock(blk))\n",
    "        \"\"\"\n",
    "\n",
    "        model = Sequential(name='image_free')\n",
    "        model.add(kernel)\n",
    "        \n",
    "        # Labels are one of [0, 1, 2, 3, 4]\n",
    "        model.add(Dense(5, activation='softmax'))\n",
    "\n",
    "        # Build using the built model\n",
    "        super().__init__(model, train, test)\n",
    "\n",
    "    def compile(self):\n",
    "        self.model.compile(optimizer='adam', loss='categorical_crossentropy', metrics=['accuracy'])\n"
   ]
  },
  {
   "cell_type": "code",
   "execution_count": 85,
   "metadata": {},
   "outputs": [
    {
     "name": "stdout",
     "output_type": "stream",
     "text": [
      "_________________________________________________________________\n",
      "Layer (type)                 Output Shape              Param #   \n",
      "=================================================================\n",
      "image_free_encoder (Sequenti (None, 32)                19044     \n",
      "_________________________________________________________________\n",
      "dense_38 (Dense)             (None, 5)                 165       \n",
      "=================================================================\n",
      "Total params: 19,209\n",
      "Trainable params: 19,079\n",
      "Non-trainable params: 130\n",
      "_________________________________________________________________\n"
     ]
    }
   ],
   "source": [
    "numerical_model = ImageFreeModel((train_x_num, train_y),\n",
    "                                 (valid_x_num, valid_y),\n",
    "                                 train_x_num.shape[1])"
   ]
  },
  {
   "cell_type": "code",
   "execution_count": 86,
   "metadata": {},
   "outputs": [
    {
     "name": "stdout",
     "output_type": "stream",
     "text": [
      "Train on 10514 samples, validate on 2701 samples\n",
      "Epoch 1/10\n",
      "10514/10514 [==============================] - 4s 422us/step - loss: 1.4363 - acc: 0.3307 - val_loss: 1.4090 - val_acc: 0.3610\n",
      "Epoch 2/10\n",
      "10514/10514 [==============================] - 2s 162us/step - loss: 1.3853 - acc: 0.3752 - val_loss: 1.3996 - val_acc: 0.3558\n",
      "Epoch 3/10\n",
      "10514/10514 [==============================] - 2s 181us/step - loss: 1.3640 - acc: 0.3884 - val_loss: 1.3973 - val_acc: 0.3602\n",
      "Epoch 4/10\n",
      "10514/10514 [==============================] - 2s 172us/step - loss: 1.3432 - acc: 0.4030 - val_loss: 1.4026 - val_acc: 0.3625\n",
      "Epoch 5/10\n",
      "10514/10514 [==============================] - 2s 182us/step - loss: 1.3246 - acc: 0.4171 - val_loss: 1.4077 - val_acc: 0.3713\n",
      "Epoch 6/10\n",
      "10514/10514 [==============================] - 2s 190us/step - loss: 1.3067 - acc: 0.4262 - val_loss: 1.4152 - val_acc: 0.3602\n",
      "Epoch 7/10\n",
      "10514/10514 [==============================] - 2s 172us/step - loss: 1.2847 - acc: 0.4395 - val_loss: 1.4225 - val_acc: 0.3669\n",
      "Epoch 8/10\n",
      "10514/10514 [==============================] - 2s 183us/step - loss: 1.2695 - acc: 0.4427 - val_loss: 1.4357 - val_acc: 0.3551\n",
      "Epoch 9/10\n",
      "10514/10514 [==============================] - 2s 189us/step - loss: 1.2471 - acc: 0.4596 - val_loss: 1.4505 - val_acc: 0.3658\n",
      "Epoch 10/10\n",
      "10514/10514 [==============================] - 2s 222us/step - loss: 1.2344 - acc: 0.4682 - val_loss: 1.4655 - val_acc: 0.3636\n"
     ]
    }
   ],
   "source": [
    "numerical_model.compile()\n",
    "numerical_model.train(epochs=10)"
   ]
  },
  {
   "cell_type": "code",
   "execution_count": 87,
   "metadata": {},
   "outputs": [
    {
     "name": "stdout",
     "output_type": "stream",
     "text": [
      "dict_keys(['val_loss', 'val_acc', 'loss', 'acc'])\n"
     ]
    },
    {
     "data": {
      "image/png": "[encoded data removed]",
      "text/plain": [
       "<Figure size 432x288 with 1 Axes>"
      ]
     },
     "metadata": {
      "needs_background": "light"
     },
     "output_type": "display_data"
    }
   ],
   "source": [
    "history = numerical_model.model.history\n",
    "print(history.history.keys())\n",
    "\n",
    "acc = history.history['acc']\n",
    "val_acc = history.history['val_acc']\n",
    "\n",
    "epochs = range(len(acc))\n",
    "\n",
    "plt.plot(epochs, acc, 'bo', label='Training acc')\n",
    "plt.plot(epochs, val_acc, 'r', label='Validation acc')\n",
    "plt.xlabel('Epochs')\n",
    "plt.ylabel('Accuracy')\n",
    "plt.ylim(0, 1)\n",
    "plt.legend()\n",
    "plt.show()"
   ]
  },
  {
   "cell_type": "markdown",
   "metadata": {},
   "source": [
    "## Union Model\n",
    "Combining ImageFreeModel with TextOnlyModel using UnionModel"
   ]
  },
  {
   "cell_type": "code",
   "execution_count": 94,
   "metadata": {},
   "outputs": [],
   "source": [
    "class UnionModel2(KaggleModel):\n",
    "    def __init__(self, models, train, test, freeze=True):\n",
    "        \n",
    "        xs = []\n",
    "        ys = []\n",
    "        for model in models:\n",
    "            model = model.model\n",
    "            x = Input(shape=model.input_shape[1:], name='{}_in'.format(model.name))\n",
    "            \n",
    "            # Get the first layer of the model. This is the encoder\n",
    "            layer = model.get_layer(index=0)\n",
    "            \n",
    "            # It must not be trainable\n",
    "            if freeze: layer.trainable = False\n",
    "            # The output only utilizes the encoder component\n",
    "            y = layer(x)\n",
    "            \n",
    "            # Output should be flat\n",
    "            if len(y.shape) > 2:\n",
    "                y = Flatten()(y)\n",
    "                \n",
    "            # Save values\n",
    "            xs.append(x)\n",
    "            ys.append(y)\n",
    "\n",
    "        y = Concatenate()(ys)\n",
    "\n",
    "        y = Dense(128)(y)\n",
    "        y = Dense(128)(y)\n",
    "        y = Dense(128)(y)\n",
    "        y = Dense(128)(y)\n",
    "        y = Dense(128)(y)\n",
    "        y = BatchNormalization()(y)\n",
    "\n",
    "        y = Dense(5, activation='softmax')(y)\n",
    "        \n",
    "        model = Model(xs, y)\n",
    "\n",
    "        super().__init__(model, train, test)\n",
    "\n",
    "    def compile(self):\n",
    "        self.model.compile(optimizer='adam', loss='categorical_crossentropy', metrics=['accuracy'])\n"
   ]
  },
  {
   "cell_type": "code",
   "execution_count": 95,
   "metadata": {},
   "outputs": [
    {
     "name": "stdout",
     "output_type": "stream",
     "text": [
      "__________________________________________________________________________________________________\n",
      "Layer (type)                    Output Shape         Param #     Connected to                     \n",
      "==================================================================================================\n",
      "description_in (InputLayer)     (None, 30)           0                                            \n",
      "__________________________________________________________________________________________________\n",
      "image_free_in (InputLayer)      (None, 65)           0                                            \n",
      "__________________________________________________________________________________________________\n",
      "description_encoder (Sequential (None, 32)           829088      description_in[0][0]             \n",
      "__________________________________________________________________________________________________\n",
      "image_free_encoder (Sequential) (None, 32)           19044       image_free_in[0][0]              \n",
      "__________________________________________________________________________________________________\n",
      "concatenate_7 (Concatenate)     (None, 64)           0           description_encoder[8][0]        \n",
      "                                                                 image_free_encoder[4][0]         \n",
      "__________________________________________________________________________________________________\n",
      "dense_43 (Dense)                (None, 128)          8320        concatenate_7[0][0]              \n",
      "__________________________________________________________________________________________________\n",
      "dense_44 (Dense)                (None, 128)          16512       dense_43[0][0]                   \n",
      "__________________________________________________________________________________________________\n",
      "dense_45 (Dense)                (None, 128)          16512       dense_44[0][0]                   \n",
      "__________________________________________________________________________________________________\n",
      "dense_46 (Dense)                (None, 128)          16512       dense_45[0][0]                   \n",
      "__________________________________________________________________________________________________\n",
      "dense_47 (Dense)                (None, 128)          16512       dense_46[0][0]                   \n",
      "__________________________________________________________________________________________________\n",
      "batch_normalization_10 (BatchNo (None, 128)          512         dense_47[0][0]                   \n",
      "__________________________________________________________________________________________________\n",
      "dense_48 (Dense)                (None, 5)            645         batch_normalization_10[0][0]     \n",
      "==================================================================================================\n",
      "Total params: 923,657\n",
      "Trainable params: 75,269\n",
      "Non-trainable params: 848,388\n",
      "__________________________________________________________________________________________________\n"
     ]
    }
   ],
   "source": [
    "union_model = UnionModel2([text_model, numerical_model],\n",
    "                         ([train_x_text, train_x_num], train_y),\n",
    "                         ([valid_x_text, valid_x_num], valid_y))"
   ]
  },
  {
   "cell_type": "code",
   "execution_count": 96,
   "metadata": {},
   "outputs": [
    {
     "name": "stdout",
     "output_type": "stream",
     "text": [
      "Train on 10514 samples, validate on 2701 samples\n",
      "Epoch 1/10\n",
      "10514/10514 [==============================] - 11s 1ms/step - loss: 1.2753 - acc: 0.4664 - val_loss: 1.5986 - val_acc: 0.3528\n",
      "Epoch 2/10\n",
      "10514/10514 [==============================] - 6s 602us/step - loss: 1.2045 - acc: 0.4907 - val_loss: 1.6480 - val_acc: 0.3525\n",
      "Epoch 3/10\n",
      "10514/10514 [==============================] - 8s 720us/step - loss: 1.1961 - acc: 0.4905 - val_loss: 1.6738 - val_acc: 0.3554\n",
      "Epoch 4/10\n",
      "10514/10514 [==============================] - 7s 661us/step - loss: 1.1972 - acc: 0.4932 - val_loss: 1.6054 - val_acc: 0.3417\n",
      "Epoch 5/10\n",
      "10514/10514 [==============================] - 6s 593us/step - loss: 1.1929 - acc: 0.4902 - val_loss: 1.6120 - val_acc: 0.3340\n",
      "Epoch 6/10\n",
      "10514/10514 [==============================] - 7s 674us/step - loss: 1.1983 - acc: 0.4926 - val_loss: 1.5377 - val_acc: 0.3532\n",
      "Epoch 7/10\n",
      "10514/10514 [==============================] - 8s 762us/step - loss: 1.1900 - acc: 0.4932 - val_loss: 1.5670 - val_acc: 0.3551\n",
      "Epoch 8/10\n",
      "10514/10514 [==============================] - 7s 663us/step - loss: 1.1944 - acc: 0.4829 - val_loss: 1.5830 - val_acc: 0.3491\n",
      "Epoch 9/10\n",
      "10514/10514 [==============================] - 7s 651us/step - loss: 1.1940 - acc: 0.4912 - val_loss: 1.5761 - val_acc: 0.3410\n",
      "Epoch 10/10\n",
      "10514/10514 [==============================] - 7s 652us/step - loss: 1.1810 - acc: 0.4961 - val_loss: 1.6559 - val_acc: 0.3484\n"
     ]
    }
   ],
   "source": [
    "union_model.compile()\n",
    "union_model.train(epochs=10)"
   ]
  },
  {
   "cell_type": "code",
   "execution_count": 97,
   "metadata": {},
   "outputs": [
    {
     "name": "stdout",
     "output_type": "stream",
     "text": [
      "dict_keys(['val_loss', 'val_acc', 'loss', 'acc'])\n"
     ]
    },
    {
     "data": {
      "image/png": "[encoded data removed]",
      "text/plain": [
       "<Figure size 432x288 with 1 Axes>"
      ]
     },
     "metadata": {
      "needs_background": "light"
     },
     "output_type": "display_data"
    }
   ],
   "source": [
    "history = numerical_model.model.history\n",
    "print(history.history.keys())\n",
    "\n",
    "acc = history.history['acc']\n",
    "val_acc = history.history['val_acc']\n",
    "\n",
    "epochs = range(len(acc))\n",
    "\n",
    "plt.plot(epochs, acc, 'bo', label='Training acc')\n",
    "plt.plot(epochs, val_acc, 'r', label='Validation acc')\n",
    "plt.xlabel('Epochs')\n",
    "plt.ylabel('Accuracy')\n",
    "plt.ylim(0, 1)\n",
    "plt.legend()\n",
    "plt.show()"
   ]
  }
 ],
 "metadata": {
  "kernelspec": {
   "display_name": "Python 3",
   "language": "python",
   "name": "python3"
  },
  "language_info": {
   "codemirror_mode": {
    "name": "ipython",
    "version": 3
   },
   "file_extension": ".py",
   "mimetype": "text/x-python",
   "name": "python",
   "nbconvert_exporter": "python",
   "pygments_lexer": "ipython3",
   "version": "3.6.8"
  }
 },
 "nbformat": 4,
 "nbformat_minor": 2
}
