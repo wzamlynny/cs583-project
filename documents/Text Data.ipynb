{
 "cells": [
  {
   "cell_type": "markdown",
   "metadata": {},
   "source": [
    "# Using Text Data (Pet Descriptions)\n",
    "Below, we run a Text Only model as well as a Text model unioned with our numerical model."
   ]
  },
  {
   "cell_type": "code",
   "execution_count": 1,
   "metadata": {},
   "outputs": [
    {
     "name": "stderr",
     "output_type": "stream",
     "text": [
      "Using TensorFlow backend.\n"
     ]
    }
   ],
   "source": [
    "import numpy as np\n",
    "import pandas as pd\n",
    "from glob import glob\n",
    "import json\n",
    "\n",
    "import matplotlib.pyplot as plt\n",
    "\n",
    "import data\n",
    "from model import TextOnlyModel, ImageFreeModel, UnionModel"
   ]
  },
  {
   "cell_type": "code",
   "execution_count": 2,
   "metadata": {},
   "outputs": [],
   "source": [
    "train_images = \"data/train_images/*\"\n",
    "test_images = \"data/teset_images/*\"\n",
    "\n",
    "breed_labels_file = \"data/breed_labels.csv\"\n",
    "state_labels_file = \"data/state_labels.csv\"\n",
    "color_labels_file = \"data/color_labels.csv\"\n",
    "\n",
    "test_file = \"data/test.csv\"\n",
    "train_file = \"data/train.csv\"\n",
    "\n",
    "train_sentiment_location = \"data/train_sentiment\"\n",
    "test_sentiment_location = \"data/test_sentiment\"\n",
    "\n",
    "y_col = 'AdoptionSpeed'"
   ]
  },
  {
   "cell_type": "code",
   "execution_count": 3,
   "metadata": {
    "scrolled": true
   },
   "outputs": [
    {
     "data": {
      "text/plain": [
       "['data/breed_labels.csv',\n",
       " 'data/state_labels.csv',\n",
       " 'data/color_labels.csv',\n",
       " 'data/test/sample_submission.csv',\n",
       " 'data/test/test.csv',\n",
       " 'data/train/train.csv']"
      ]
     },
     "execution_count": 3,
     "metadata": {},
     "output_type": "execute_result"
    }
   ],
   "source": [
    "glob(\"data/**/*.csv\",recursive=True)"
   ]
  },
  {
   "cell_type": "code",
   "execution_count": 4,
   "metadata": {},
   "outputs": [],
   "source": [
    "breed_labels = pd.read_csv(\"data/breed_labels.csv\")\n",
    "state_labels = pd.read_csv(\"data/state_labels.csv\")\n",
    "color_labels = pd.read_csv(\"data/color_labels.csv\")\n",
    "train_df = pd.read_csv(\"data/train/train.csv\")\n",
    "test_df = pd.read_csv(\"data/test/test.csv\")"
   ]
  },
  {
   "cell_type": "markdown",
   "metadata": {},
   "source": [
    "### Text Parsing"
   ]
  },
  {
   "cell_type": "markdown",
   "metadata": {},
   "source": [
    "#### Process sentiment metadata"
   ]
  },
  {
   "cell_type": "code",
   "execution_count": 5,
   "metadata": {
    "scrolled": true
   },
   "outputs": [],
   "source": [
    "preprocessed_file = \"sentiment_parsed.csv\"\n",
    "if len(glob(preprocessed_file)) == 0:\n",
    "    data.get_sentiment(train_df, train_sentiment_location)\n",
    "else:\n",
    "    sentiment = pd.read_csv(preprocessed_file)\n",
    "    train_df = train_df.merge(sentiment, on='PetID')\n",
    "\n",
    "preprocessed_file = \"test_sentiment_parsed.csv\"\n",
    "if len(glob(preprocessed_file)) == 0:\n",
    "    data.get_sentiment(test_df, test_sentiment_location)\n",
    "else:\n",
    "    sentiment = pd.read_csv(preprocessed_file)\n",
    "    test_df = test_df.merge(sentiment, on='PetID')"
   ]
  },
  {
   "cell_type": "markdown",
   "metadata": {},
   "source": [
    "#### Parse Description"
   ]
  },
  {
   "cell_type": "code",
   "execution_count": 6,
   "metadata": {},
   "outputs": [],
   "source": [
    "train_sequence, test_sequence, vocab_len = data.parse_description(train_df, test_df)"
   ]
  },
  {
   "cell_type": "code",
   "execution_count": 7,
   "metadata": {},
   "outputs": [],
   "source": [
    "train_df['Sequence'] = train_sequence\n",
    "test_df['Sequence'] = test_sequence"
   ]
  },
  {
   "cell_type": "code",
   "execution_count": 8,
   "metadata": {},
   "outputs": [
    {
     "data": {
      "text/html": [
       "<div>\n",
       "<style scoped>\n",
       "    .dataframe tbody tr th:only-of-type {\n",
       "        vertical-align: middle;\n",
       "    }\n",
       "\n",
       "    .dataframe tbody tr th {\n",
       "        vertical-align: top;\n",
       "    }\n",
       "\n",
       "    .dataframe thead th {\n",
       "        text-align: right;\n",
       "    }\n",
       "</style>\n",
       "<table border=\"1\" class=\"dataframe\">\n",
       "  <thead>\n",
       "    <tr style=\"text-align: right;\">\n",
       "      <th></th>\n",
       "      <th>Sequence</th>\n",
       "    </tr>\n",
       "  </thead>\n",
       "  <tbody>\n",
       "    <tr>\n",
       "      <th>0</th>\n",
       "      <td>[19774, 11870, 15761, 2080, 4366, 15226, 631, ...</td>\n",
       "    </tr>\n",
       "    <tr>\n",
       "      <th>1</th>\n",
       "      <td>[5218, 9822, 16971, 23797, 8123, 19032, 19461,...</td>\n",
       "    </tr>\n",
       "    <tr>\n",
       "      <th>2</th>\n",
       "      <td>[12692, 23797, 14231, 3243, 15000, 3753, 15266...</td>\n",
       "    </tr>\n",
       "    <tr>\n",
       "      <th>3</th>\n",
       "      <td>[13747, 6271, 16322, 8623, 16051, 6279, 13747,...</td>\n",
       "    </tr>\n",
       "    <tr>\n",
       "      <th>4</th>\n",
       "      <td>[10059, 4366, 14430, 22610, 4409, 16266, 21687...</td>\n",
       "    </tr>\n",
       "    <tr>\n",
       "      <th>5</th>\n",
       "      <td>[5279, 5867, 9258, 13743, 828, 19906, 0, 0, 0,...</td>\n",
       "    </tr>\n",
       "    <tr>\n",
       "      <th>6</th>\n",
       "      <td>[1012, 2043, 7728, 2235, 7318, 16566, 11691, 2...</td>\n",
       "    </tr>\n",
       "    <tr>\n",
       "      <th>7</th>\n",
       "      <td>[3753, 15266, 4409, 2043, 20389, 18254, 8961, ...</td>\n",
       "    </tr>\n",
       "    <tr>\n",
       "      <th>8</th>\n",
       "      <td>[22977, 8623, 9564, 5867, 5218, 5890, 20086, 1...</td>\n",
       "    </tr>\n",
       "    <tr>\n",
       "      <th>9</th>\n",
       "      <td>[5637, 1541, 5279, 5218, 21611, 24423, 8538, 5...</td>\n",
       "    </tr>\n",
       "  </tbody>\n",
       "</table>\n",
       "</div>"
      ],
      "text/plain": [
       "                                            Sequence\n",
       "0  [19774, 11870, 15761, 2080, 4366, 15226, 631, ...\n",
       "1  [5218, 9822, 16971, 23797, 8123, 19032, 19461,...\n",
       "2  [12692, 23797, 14231, 3243, 15000, 3753, 15266...\n",
       "3  [13747, 6271, 16322, 8623, 16051, 6279, 13747,...\n",
       "4  [10059, 4366, 14430, 22610, 4409, 16266, 21687...\n",
       "5  [5279, 5867, 9258, 13743, 828, 19906, 0, 0, 0,...\n",
       "6  [1012, 2043, 7728, 2235, 7318, 16566, 11691, 2...\n",
       "7  [3753, 15266, 4409, 2043, 20389, 18254, 8961, ...\n",
       "8  [22977, 8623, 9564, 5867, 5218, 5890, 20086, 1...\n",
       "9  [5637, 1541, 5279, 5218, 21611, 24423, 8538, 5..."
      ]
     },
     "metadata": {},
     "output_type": "display_data"
    }
   ],
   "source": [
    "display(train_df[['Sequence']][:10])"
   ]
  },
  {
   "cell_type": "markdown",
   "metadata": {},
   "source": [
    "### Preprocess Numeric Data - One hot encoding"
   ]
  },
  {
   "cell_type": "code",
   "execution_count": 9,
   "metadata": {},
   "outputs": [
    {
     "name": "stdout",
     "output_type": "stream",
     "text": [
      "One hot encoding Type with 2 classes...\n",
      "One hot encoding Gender with 3 classes...\n",
      "One hot encoding Color1 with 7 classes...\n",
      "One hot encoding Color2 with 7 classes...\n",
      "One hot encoding Color3 with 7 classes...\n",
      "One hot encoding MaturitySize with 5 classes...\n",
      "One hot encoding FurLength with 4 classes...\n",
      "One hot encoding Vaccinated with 3 classes...\n",
      "One hot encoding Dewormed with 3 classes...\n",
      "One hot encoding Sterilized with 3 classes...\n",
      "One hot encoding Health with 4 classes...\n",
      "One hot encoding State with 15 classes...\n"
     ]
    }
   ],
   "source": [
    "# One hot encode columns\n",
    "for col, num_class in data.one_hot_cols.items():\n",
    "    if col is not 'Breed1' and col is not 'Breed2':\n",
    "        encode = data.one_hot_encode(train_df, col, num_class)\n",
    "        train_df[col] = [row for row in encode]\n",
    "        encode = data.one_hot_encode(test_df, col, num_class)\n",
    "        test_df[col] = [row for row in encode]\n",
    "        print(\"One hot encoding {} with {} classes...\".format(col, num_class))"
   ]
  },
  {
   "cell_type": "code",
   "execution_count": 10,
   "metadata": {},
   "outputs": [],
   "source": [
    "# One hot encode y-output\n",
    "encode = data.one_hot_encode(train_df, y_col)\n",
    "train_df['AdoptionSpeed'] = [row for row in encode]"
   ]
  },
  {
   "cell_type": "markdown",
   "metadata": {},
   "source": [
    "### Split into train and validation sets"
   ]
  },
  {
   "cell_type": "code",
   "execution_count": 17,
   "metadata": {},
   "outputs": [],
   "source": [
    "numeric_cols = ['Age', 'Type', 'Gender', 'Color1', 'Color2',\n",
    "                'Color3', 'MaturitySize', 'FurLength', 'Vaccinated',\n",
    "                'Dewormed', 'Sterilized', 'Health', 'Quantity',\n",
    "                'Fee', 'State', 'VideoAmt', 'PhotoAmt',\n",
    "                'SentimentMagnitude', 'SentimentScore', 'NumSentences']"
   ]
  },
  {
   "cell_type": "code",
   "execution_count": 18,
   "metadata": {},
   "outputs": [],
   "source": [
    "text_cols = 'Sequence'"
   ]
  },
  {
   "cell_type": "code",
   "execution_count": 19,
   "metadata": {},
   "outputs": [],
   "source": [
    "# Split into training and validation data\n",
    "n_train = int(len(train_df) * .8)\n",
    "\n",
    "# Text\n",
    "train_x_text = train_df[text_cols][:n_train]\n",
    "train_x_text = np.array([row for row in train_x_text]) # To make this correct shape\n",
    "train_y_text = train_df[y_col][:n_train]\n",
    "train_y_text = np.array([row for row in train_y_text])\n",
    "valid_x_text = train_df[text_cols][n_train:]\n",
    "valid_x_text = np.array([row for row in valid_x_text])\n",
    "valid_y_text = train_df[y_col][n_train:]\n",
    "valid_y_text = np.array([row for row in valid_y_text])\n",
    "\n",
    "# Numeric\n",
    "train_x_num = train_df[numeric_cols][:n_train]\n",
    "# train_x_num = np.array([row for row in train_x_num]) # To make this correct shape\n",
    "train_y_num = train_df[y_col][:n_train]\n",
    "# train_y_num = np.array([row for row in train_y_num])\n",
    "valid_x_num = train_df[numeric_cols][n_train:]\n",
    "# valid_x_num = np.array([row for row in valid_x_num])\n",
    "valid_y_num = train_df[y_col][n_train:]\n",
    "# valid_y_num = np.array([row for row in valid_y_num])"
   ]
  },
  {
   "cell_type": "markdown",
   "metadata": {},
   "source": [
    "## Text Only Model\n",
    "Defined in model.py as TextOnlyModel"
   ]
  },
  {
   "cell_type": "code",
   "execution_count": 22,
   "metadata": {},
   "outputs": [
    {
     "name": "stdout",
     "output_type": "stream",
     "text": [
      "_________________________________________________________________\n",
      "Layer (type)                 Output Shape              Param #   \n",
      "=================================================================\n",
      "description_encoder (Sequent (None, 32)                829088    \n",
      "_________________________________________________________________\n",
      "dense_2 (Dense)              (None, 5)                 165       \n",
      "=================================================================\n",
      "Total params: 829,253\n",
      "Trainable params: 829,253\n",
      "Non-trainable params: 0\n",
      "_________________________________________________________________\n"
     ]
    }
   ],
   "source": [
    "text_model = TextOnlyModel((train_x_text, train_y_text),\n",
    "                           (valid_x_text, valid_y_text),\n",
    "                           vocab_len)"
   ]
  },
  {
   "cell_type": "code",
   "execution_count": 23,
   "metadata": {},
   "outputs": [
    {
     "name": "stdout",
     "output_type": "stream",
     "text": [
      "Train on 11994 samples, validate on 2999 samples\n",
      "Epoch 1/10\n",
      "11994/11994 [==============================] - 51s 4ms/step - loss: 1.4767 - acc: 0.2774 - val_loss: 1.4609 - val_acc: 0.3028\n",
      "Epoch 2/10\n",
      "11994/11994 [==============================] - 42s 4ms/step - loss: 1.4469 - acc: 0.3189 - val_loss: 1.4400 - val_acc: 0.3154\n",
      "Epoch 3/10\n",
      "11994/11994 [==============================] - 42s 3ms/step - loss: 1.3589 - acc: 0.3914 - val_loss: 1.4399 - val_acc: 0.3378\n",
      "Epoch 4/10\n",
      "11994/11994 [==============================] - 40s 3ms/step - loss: 1.2729 - acc: 0.4248 - val_loss: 1.4511 - val_acc: 0.3281\n",
      "Epoch 5/10\n",
      "11994/11994 [==============================] - 40s 3ms/step - loss: 1.1943 - acc: 0.4687 - val_loss: 1.5254 - val_acc: 0.3304\n",
      "Epoch 6/10\n",
      "11994/11994 [==============================] - 39s 3ms/step - loss: 1.1129 - acc: 0.5151 - val_loss: 1.6375 - val_acc: 0.3368\n",
      "Epoch 7/10\n",
      "11994/11994 [==============================] - 41s 3ms/step - loss: 1.0243 - acc: 0.5711 - val_loss: 1.7952 - val_acc: 0.3341\n",
      "Epoch 8/10\n",
      "11994/11994 [==============================] - 48s 4ms/step - loss: 0.9409 - acc: 0.6208 - val_loss: 1.7973 - val_acc: 0.3568\n",
      "Epoch 9/10\n",
      "11994/11994 [==============================] - 47s 4ms/step - loss: 0.8521 - acc: 0.6610 - val_loss: 1.9501 - val_acc: 0.3438\n",
      "Epoch 10/10\n",
      "11994/11994 [==============================] - 40s 3ms/step - loss: 0.7841 - acc: 0.6902 - val_loss: 2.0096 - val_acc: 0.3414\n"
     ]
    }
   ],
   "source": [
    "text_model.compile()\n",
    "text_model.train(epochs=10)"
   ]
  },
  {
   "cell_type": "code",
   "execution_count": 24,
   "metadata": {},
   "outputs": [],
   "source": [
    "history = text_model.model.history"
   ]
  },
  {
   "cell_type": "code",
   "execution_count": 25,
   "metadata": {},
   "outputs": [
    {
     "name": "stdout",
     "output_type": "stream",
     "text": [
      "dict_keys(['val_loss', 'val_acc', 'loss', 'acc'])\n"
     ]
    },
    {
     "data": {
      "image/png": "[encoded data removed]",
      "text/plain": [
       "<Figure size 432x288 with 1 Axes>"
      ]
     },
     "metadata": {
      "needs_background": "light"
     },
     "output_type": "display_data"
    }
   ],
   "source": [
    "print(history.history.keys())\n",
    "\n",
    "acc = history.history['acc']\n",
    "val_acc = history.history['val_acc'] # This isn't here?\n",
    "\n",
    "epochs = range(len(acc))\n",
    "\n",
    "plt.plot(epochs, acc, 'bo', label='Training acc')\n",
    "plt.plot(epochs, val_acc, 'r', label='Validation acc')\n",
    "plt.xlabel('Epochs')\n",
    "plt.ylabel('Accuracy')\n",
    "plt.ylim(0, 1)\n",
    "plt.legend()\n",
    "plt.show()"
   ]
  },
  {
   "cell_type": "markdown",
   "metadata": {},
   "source": [
    "## Numerical + Text Data\n",
    "Combining ImageFreeModel with TextOnlyModel using UnionModel"
   ]
  },
  {
   "cell_type": "code",
   "execution_count": 26,
   "metadata": {},
   "outputs": [
    {
     "name": "stdout",
     "output_type": "stream",
     "text": [
      "_________________________________________________________________\n",
      "Layer (type)                 Output Shape              Param #   \n",
      "=================================================================\n",
      "image_free_encoder (Sequenti (None, 64)                11464     \n",
      "_________________________________________________________________\n",
      "dense_6 (Dense)              (None, 5)                 325       \n",
      "=================================================================\n",
      "Total params: 11,789\n",
      "Trainable params: 11,337\n",
      "Non-trainable params: 452\n",
      "_________________________________________________________________\n"
     ]
    }
   ],
   "source": [
    "numerical_model = ImageFreeModel((train_x_num, train_y_num),\n",
    "                                 (valid_x_num, valid_y_num))"
   ]
  },
  {
   "cell_type": "code",
   "execution_count": 27,
   "metadata": {},
   "outputs": [
    {
     "ename": "ValueError",
     "evalue": "Error when checking input: expected image_free_encoder_input to have shape (34,) but got array with shape (20,)",
     "output_type": "error",
     "traceback": [
      "\u001b[0;31m---------------------------------------------------------------------------\u001b[0m",
      "\u001b[0;31mValueError\u001b[0m                                Traceback (most recent call last)",
      "\u001b[0;32m<ipython-input-27-fb603d83b3b2>\u001b[0m in \u001b[0;36m<module>\u001b[0;34m\u001b[0m\n\u001b[1;32m      1\u001b[0m \u001b[0mnumerical_model\u001b[0m\u001b[0;34m.\u001b[0m\u001b[0mcompile\u001b[0m\u001b[0;34m(\u001b[0m\u001b[0;34m)\u001b[0m\u001b[0;34m\u001b[0m\u001b[0;34m\u001b[0m\u001b[0m\n\u001b[0;32m----> 2\u001b[0;31m \u001b[0mnumerical_model\u001b[0m\u001b[0;34m.\u001b[0m\u001b[0mtrain\u001b[0m\u001b[0;34m(\u001b[0m\u001b[0mepochs\u001b[0m\u001b[0;34m=\u001b[0m\u001b[0;36m10\u001b[0m\u001b[0;34m)\u001b[0m\u001b[0;34m\u001b[0m\u001b[0;34m\u001b[0m\u001b[0m\n\u001b[0m",
      "\u001b[0;32m~/Stevens/CS583_DeepLearning/cs583-project/model.py\u001b[0m in \u001b[0;36mtrain\u001b[0;34m(self, epochs)\u001b[0m\n\u001b[1;32m     25\u001b[0m \u001b[0;34m\u001b[0m\u001b[0m\n\u001b[1;32m     26\u001b[0m         \u001b[0;31m# Fit to the data\u001b[0m\u001b[0;34m\u001b[0m\u001b[0;34m\u001b[0m\u001b[0;34m\u001b[0m\u001b[0m\n\u001b[0;32m---> 27\u001b[0;31m         \u001b[0mself\u001b[0m\u001b[0;34m.\u001b[0m\u001b[0mmodel\u001b[0m\u001b[0;34m.\u001b[0m\u001b[0mfit\u001b[0m\u001b[0;34m(\u001b[0m\u001b[0mX_train\u001b[0m\u001b[0;34m,\u001b[0m \u001b[0mY_train\u001b[0m\u001b[0;34m,\u001b[0m \u001b[0mepochs\u001b[0m\u001b[0;34m=\u001b[0m\u001b[0mepochs\u001b[0m\u001b[0;34m,\u001b[0m \u001b[0mvalidation_data\u001b[0m\u001b[0;34m=\u001b[0m\u001b[0mself\u001b[0m\u001b[0;34m.\u001b[0m\u001b[0mtest_data\u001b[0m\u001b[0;34m,\u001b[0m \u001b[0mcallbacks\u001b[0m\u001b[0;34m=\u001b[0m\u001b[0;34m[\u001b[0m\u001b[0mcheckpoint\u001b[0m\u001b[0;34m]\u001b[0m\u001b[0;34m)\u001b[0m\u001b[0;34m\u001b[0m\u001b[0;34m\u001b[0m\u001b[0m\n\u001b[0m\u001b[1;32m     28\u001b[0m \u001b[0;34m\u001b[0m\u001b[0m\n\u001b[1;32m     29\u001b[0m     \u001b[0;32mdef\u001b[0m \u001b[0mpredict\u001b[0m\u001b[0;34m(\u001b[0m\u001b[0mself\u001b[0m\u001b[0;34m,\u001b[0m \u001b[0mX\u001b[0m\u001b[0;34m)\u001b[0m\u001b[0;34m:\u001b[0m\u001b[0;34m\u001b[0m\u001b[0;34m\u001b[0m\u001b[0m\n",
      "\u001b[0;32m~/anaconda3/envs/cs583/lib/python3.6/site-packages/keras/engine/training.py\u001b[0m in \u001b[0;36mfit\u001b[0;34m(self, x, y, batch_size, epochs, verbose, callbacks, validation_split, validation_data, shuffle, class_weight, sample_weight, initial_epoch, steps_per_epoch, validation_steps, **kwargs)\u001b[0m\n\u001b[1;32m    950\u001b[0m             \u001b[0msample_weight\u001b[0m\u001b[0;34m=\u001b[0m\u001b[0msample_weight\u001b[0m\u001b[0;34m,\u001b[0m\u001b[0;34m\u001b[0m\u001b[0;34m\u001b[0m\u001b[0m\n\u001b[1;32m    951\u001b[0m             \u001b[0mclass_weight\u001b[0m\u001b[0;34m=\u001b[0m\u001b[0mclass_weight\u001b[0m\u001b[0;34m,\u001b[0m\u001b[0;34m\u001b[0m\u001b[0;34m\u001b[0m\u001b[0m\n\u001b[0;32m--> 952\u001b[0;31m             batch_size=batch_size)\n\u001b[0m\u001b[1;32m    953\u001b[0m         \u001b[0;31m# Prepare validation data.\u001b[0m\u001b[0;34m\u001b[0m\u001b[0;34m\u001b[0m\u001b[0;34m\u001b[0m\u001b[0m\n\u001b[1;32m    954\u001b[0m         \u001b[0mdo_validation\u001b[0m \u001b[0;34m=\u001b[0m \u001b[0;32mFalse\u001b[0m\u001b[0;34m\u001b[0m\u001b[0;34m\u001b[0m\u001b[0m\n",
      "\u001b[0;32m~/anaconda3/envs/cs583/lib/python3.6/site-packages/keras/engine/training.py\u001b[0m in \u001b[0;36m_standardize_user_data\u001b[0;34m(self, x, y, sample_weight, class_weight, check_array_lengths, batch_size)\u001b[0m\n\u001b[1;32m    749\u001b[0m             \u001b[0mfeed_input_shapes\u001b[0m\u001b[0;34m,\u001b[0m\u001b[0;34m\u001b[0m\u001b[0;34m\u001b[0m\u001b[0m\n\u001b[1;32m    750\u001b[0m             \u001b[0mcheck_batch_axis\u001b[0m\u001b[0;34m=\u001b[0m\u001b[0;32mFalse\u001b[0m\u001b[0;34m,\u001b[0m  \u001b[0;31m# Don't enforce the batch size.\u001b[0m\u001b[0;34m\u001b[0m\u001b[0;34m\u001b[0m\u001b[0m\n\u001b[0;32m--> 751\u001b[0;31m             exception_prefix='input')\n\u001b[0m\u001b[1;32m    752\u001b[0m \u001b[0;34m\u001b[0m\u001b[0m\n\u001b[1;32m    753\u001b[0m         \u001b[0;32mif\u001b[0m \u001b[0my\u001b[0m \u001b[0;32mis\u001b[0m \u001b[0;32mnot\u001b[0m \u001b[0;32mNone\u001b[0m\u001b[0;34m:\u001b[0m\u001b[0;34m\u001b[0m\u001b[0;34m\u001b[0m\u001b[0m\n",
      "\u001b[0;32m~/anaconda3/envs/cs583/lib/python3.6/site-packages/keras/engine/training_utils.py\u001b[0m in \u001b[0;36mstandardize_input_data\u001b[0;34m(data, names, shapes, check_batch_axis, exception_prefix)\u001b[0m\n\u001b[1;32m    136\u001b[0m                             \u001b[0;34m': expected '\u001b[0m \u001b[0;34m+\u001b[0m \u001b[0mnames\u001b[0m\u001b[0;34m[\u001b[0m\u001b[0mi\u001b[0m\u001b[0;34m]\u001b[0m \u001b[0;34m+\u001b[0m \u001b[0;34m' to have shape '\u001b[0m \u001b[0;34m+\u001b[0m\u001b[0;34m\u001b[0m\u001b[0;34m\u001b[0m\u001b[0m\n\u001b[1;32m    137\u001b[0m                             \u001b[0mstr\u001b[0m\u001b[0;34m(\u001b[0m\u001b[0mshape\u001b[0m\u001b[0;34m)\u001b[0m \u001b[0;34m+\u001b[0m \u001b[0;34m' but got array with shape '\u001b[0m \u001b[0;34m+\u001b[0m\u001b[0;34m\u001b[0m\u001b[0;34m\u001b[0m\u001b[0m\n\u001b[0;32m--> 138\u001b[0;31m                             str(data_shape))\n\u001b[0m\u001b[1;32m    139\u001b[0m     \u001b[0;32mreturn\u001b[0m \u001b[0mdata\u001b[0m\u001b[0;34m\u001b[0m\u001b[0;34m\u001b[0m\u001b[0m\n\u001b[1;32m    140\u001b[0m \u001b[0;34m\u001b[0m\u001b[0m\n",
      "\u001b[0;31mValueError\u001b[0m: Error when checking input: expected image_free_encoder_input to have shape (34,) but got array with shape (20,)"
     ]
    }
   ],
   "source": [
    "numerical_model.compile()\n",
    "numerical_model.train(epochs=10)"
   ]
  },
  {
   "cell_type": "code",
   "execution_count": null,
   "metadata": {},
   "outputs": [],
   "source": [
    "# TODO - also how to pass this data\n",
    "# UnionModel([numerical_model, text_model],)"
   ]
  }
 ],
 "metadata": {
  "kernelspec": {
   "display_name": "Python 3",
   "language": "python",
   "name": "python3"
  },
  "language_info": {
   "codemirror_mode": {
    "name": "ipython",
    "version": 3
   },
   "file_extension": ".py",
   "mimetype": "text/x-python",
   "name": "python",
   "nbconvert_exporter": "python",
   "pygments_lexer": "ipython3",
   "version": "3.6.8"
  }
 },
 "nbformat": 4,
 "nbformat_minor": 2
}
